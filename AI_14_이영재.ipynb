{
  "nbformat": 4,
  "nbformat_minor": 0,
  "metadata": {
    "colab": {
      "provenance": [],
      "collapsed_sections": []
    },
    "kernelspec": {
      "name": "python3",
      "display_name": "Python 3"
    },
    "language_info": {
      "name": "python"
    },
    "accelerator": "GPU"
  },
  "cells": [
    {
      "cell_type": "code",
      "execution_count": 106,
      "metadata": {
        "colab": {
          "base_uri": "https://localhost:8080/"
        },
        "id": "kVxif79ZjcLV",
        "outputId": "f6069a17-acee-403a-8ffa-f266bc588419"
      },
      "outputs": [
        {
          "output_type": "stream",
          "name": "stdout",
          "text": [
            "['/content/drive/MyDrive/samples/28348.png', '/content/drive/MyDrive/samples/28x47.png', '/content/drive/MyDrive/samples/268g2.png', '/content/drive/MyDrive/samples/264m5.png', '/content/drive/MyDrive/samples/25w53.png', '/content/drive/MyDrive/samples/25257.png', '/content/drive/MyDrive/samples/25m6p.png', '/content/drive/MyDrive/samples/25p2m.png', '/content/drive/MyDrive/samples/25egp.png', '/content/drive/MyDrive/samples/253dc.png', '/content/drive/MyDrive/samples/24f6w.png', '/content/drive/MyDrive/samples/24pew.png', '/content/drive/MyDrive/samples/245y5.png', '/content/drive/MyDrive/samples/244e2.png', '/content/drive/MyDrive/samples/23n88.png', '/content/drive/MyDrive/samples/23mdg.png', '/content/drive/MyDrive/samples/2356g.png', '/content/drive/MyDrive/samples/22d5n.png', '/content/drive/MyDrive/samples/243mm.png', '/content/drive/MyDrive/samples/226md.png', '/content/drive/MyDrive/samples/2cg58.png', '/content/drive/MyDrive/samples/2cgyx.png', '/content/drive/MyDrive/samples/2enf4.png', '/content/drive/MyDrive/samples/2g7nm.png', '/content/drive/MyDrive/samples/2g783.png', '/content/drive/MyDrive/samples/2en7g.png', '/content/drive/MyDrive/samples/2fxgd.png', '/content/drive/MyDrive/samples/2bg48.png', '/content/drive/MyDrive/samples/2cegf.png', '/content/drive/MyDrive/samples/2gyb6.png', '/content/drive/MyDrive/samples/2b827.png', '/content/drive/MyDrive/samples/36nx4.png', '/content/drive/MyDrive/samples/368y5.png', '/content/drive/MyDrive/samples/34pcn.png', '/content/drive/MyDrive/samples/36bc2.png', '/content/drive/MyDrive/samples/34fxm.png', '/content/drive/MyDrive/samples/33p4e.png', '/content/drive/MyDrive/samples/33n73.png', '/content/drive/MyDrive/samples/34b84.png', '/content/drive/MyDrive/samples/33f7m.png', '/content/drive/MyDrive/samples/33ng4.png', '/content/drive/MyDrive/samples/2wx73.png', '/content/drive/MyDrive/samples/33b22.png', '/content/drive/MyDrive/samples/325fb.png', '/content/drive/MyDrive/samples/32dnn.png', '/content/drive/MyDrive/samples/32cnn.png', '/content/drive/MyDrive/samples/2yggg.png', '/content/drive/MyDrive/samples/2ycn8.png', '/content/drive/MyDrive/samples/2xc2n.png', '/content/drive/MyDrive/samples/2wc38.png', '/content/drive/MyDrive/samples/2x7bm.png', '/content/drive/MyDrive/samples/2w4y7.png', '/content/drive/MyDrive/samples/2nx38.png', '/content/drive/MyDrive/samples/2pfpn.png', '/content/drive/MyDrive/samples/2p2y8.png', '/content/drive/MyDrive/samples/2npg6.png', '/content/drive/MyDrive/samples/2nf26.png', '/content/drive/MyDrive/samples/2mg87.png', '/content/drive/MyDrive/samples/2n73f.png', '/content/drive/MyDrive/samples/2mpnn.png', '/content/drive/MyDrive/samples/2nbcx.png', '/content/drive/MyDrive/samples/3x325.png', '/content/drive/MyDrive/samples/3xcgg.png', '/content/drive/MyDrive/samples/3x5fm.png', '/content/drive/MyDrive/samples/3wnd3.png', '/content/drive/MyDrive/samples/3ny45.png', '/content/drive/MyDrive/samples/3w2bw.png', '/content/drive/MyDrive/samples/3p67n.png', '/content/drive/MyDrive/samples/3pe4g.png', '/content/drive/MyDrive/samples/3p4nn.png', '/content/drive/MyDrive/samples/3nw7w.png', '/content/drive/MyDrive/samples/3nnpw.png', '/content/drive/MyDrive/samples/3ndxd.png', '/content/drive/MyDrive/samples/3nfdn.png', '/content/drive/MyDrive/samples/377xx.png', '/content/drive/MyDrive/samples/3n7mx.png', '/content/drive/MyDrive/samples/3mxdn.png', '/content/drive/MyDrive/samples/3n3cf.png', '/content/drive/MyDrive/samples/3fbxd.png', '/content/drive/MyDrive/samples/3g2w6.png', '/content/drive/MyDrive/samples/3n2b4.png', '/content/drive/MyDrive/samples/3eny7.png', '/content/drive/MyDrive/samples/3dgmf.png', '/content/drive/MyDrive/samples/3cpwb.png', '/content/drive/MyDrive/samples/3bnyf.png', '/content/drive/MyDrive/samples/3d7bd.png', '/content/drive/MyDrive/samples/3bx86.png', '/content/drive/MyDrive/samples/3bfnd.png', '/content/drive/MyDrive/samples/3den6.png', '/content/drive/MyDrive/samples/3ebpw.png', '/content/drive/MyDrive/samples/3ebnn.png', '/content/drive/MyDrive/samples/3bd8f.png', '/content/drive/MyDrive/samples/38n57.png', '/content/drive/MyDrive/samples/387g2.png', '/content/drive/MyDrive/samples/3b4we.png', '/content/drive/MyDrive/samples/37ep6.png', '/content/drive/MyDrive/samples/373gb.png', '/content/drive/MyDrive/samples/36w25.png', '/content/drive/MyDrive/samples/37d52.png', '/content/drive/MyDrive/samples/378e5.png', '/content/drive/MyDrive/samples/4gb3f.png', '/content/drive/MyDrive/samples/4gycb.png', '/content/drive/MyDrive/samples/4fp5g.png', '/content/drive/MyDrive/samples/4fc36.png', '/content/drive/MyDrive/samples/4f8yp.png', '/content/drive/MyDrive/samples/4egem.png', '/content/drive/MyDrive/samples/4exnn.png', '/content/drive/MyDrive/samples/4dgf7.png', '/content/drive/MyDrive/samples/4dw3w.png', '/content/drive/MyDrive/samples/4d22m.png', '/content/drive/MyDrive/samples/4cfw8.png', '/content/drive/MyDrive/samples/4cn7b.png', '/content/drive/MyDrive/samples/4c8n8.png', '/content/drive/MyDrive/samples/4b2pw.png', '/content/drive/MyDrive/samples/488de.png', '/content/drive/MyDrive/samples/478nx.png', '/content/drive/MyDrive/samples/474ff.png', '/content/drive/MyDrive/samples/47m2b.png', '/content/drive/MyDrive/samples/47e4p.png', '/content/drive/MyDrive/samples/4743p.png', '/content/drive/MyDrive/samples/467d5.png', '/content/drive/MyDrive/samples/46mbm.png', '/content/drive/MyDrive/samples/44ype.png', '/content/drive/MyDrive/samples/44xe8.png', '/content/drive/MyDrive/samples/445cc.png', '/content/drive/MyDrive/samples/44fyb.png', '/content/drive/MyDrive/samples/43xfe.png', '/content/drive/MyDrive/samples/4433m.png', '/content/drive/MyDrive/samples/44c22.png', '/content/drive/MyDrive/samples/43p5d.png', '/content/drive/MyDrive/samples/43gey.png', '/content/drive/MyDrive/samples/42xpy.png', '/content/drive/MyDrive/samples/43mn5.png', '/content/drive/MyDrive/samples/42nxy.png', '/content/drive/MyDrive/samples/3ygde.png', '/content/drive/MyDrive/samples/3ym7f.png', '/content/drive/MyDrive/samples/3ye2e.png', '/content/drive/MyDrive/samples/42dw4.png', '/content/drive/MyDrive/samples/428b6.png', '/content/drive/MyDrive/samples/3xng6.png', '/content/drive/MyDrive/samples/5bb66.png', '/content/drive/MyDrive/samples/58pnp.png', '/content/drive/MyDrive/samples/58b5m.png', '/content/drive/MyDrive/samples/57b27.png', '/content/drive/MyDrive/samples/57wdp.png', '/content/drive/MyDrive/samples/573bn.png', '/content/drive/MyDrive/samples/573d8.png', '/content/drive/MyDrive/samples/574d7.png', '/content/drive/MyDrive/samples/56ncx.png', '/content/drive/MyDrive/samples/57gnx.png', '/content/drive/MyDrive/samples/56m6y.png', '/content/drive/MyDrive/samples/56c34.png', '/content/drive/MyDrive/samples/556wd.png', '/content/drive/MyDrive/samples/55y2m.png', '/content/drive/MyDrive/samples/55w5c.png', '/content/drive/MyDrive/samples/537nf.png', '/content/drive/MyDrive/samples/53wb8.png', '/content/drive/MyDrive/samples/5325m.png', '/content/drive/MyDrive/samples/53wp3.png', '/content/drive/MyDrive/samples/53mn8.png', '/content/drive/MyDrive/samples/52447.png', '/content/drive/MyDrive/samples/4yc85.png', '/content/drive/MyDrive/samples/4ycex.png', '/content/drive/MyDrive/samples/4ynf3.png', '/content/drive/MyDrive/samples/4w76g.png', '/content/drive/MyDrive/samples/4w6mw.png', '/content/drive/MyDrive/samples/4nc37.png', '/content/drive/MyDrive/samples/4n3mn.png', '/content/drive/MyDrive/samples/4nnf3.png', '/content/drive/MyDrive/samples/4n2yg.png', '/content/drive/MyDrive/samples/4m2w5.png', '/content/drive/MyDrive/samples/5wddw.png', '/content/drive/MyDrive/samples/5p3mm.png', '/content/drive/MyDrive/samples/5pm6b.png', '/content/drive/MyDrive/samples/5p8fm.png', '/content/drive/MyDrive/samples/5nxnn.png', '/content/drive/MyDrive/samples/5nm6d.png', '/content/drive/MyDrive/samples/5nnff.png', '/content/drive/MyDrive/samples/5np4m.png', '/content/drive/MyDrive/samples/5npdn.png', '/content/drive/MyDrive/samples/5nggg.png', '/content/drive/MyDrive/samples/5ng6e.png', '/content/drive/MyDrive/samples/5n732.png', '/content/drive/MyDrive/samples/5n3w4.png', '/content/drive/MyDrive/samples/5n728.png', '/content/drive/MyDrive/samples/5n245.png', '/content/drive/MyDrive/samples/5mf7c.png', '/content/drive/MyDrive/samples/5mcy7.png', '/content/drive/MyDrive/samples/5mnpd.png', '/content/drive/MyDrive/samples/5mfff.png', '/content/drive/MyDrive/samples/5mgn4.png', '/content/drive/MyDrive/samples/5gcd3.png', '/content/drive/MyDrive/samples/5f3gf.png', '/content/drive/MyDrive/samples/5g5e5.png', '/content/drive/MyDrive/samples/5fyem.png', '/content/drive/MyDrive/samples/5expp.png', '/content/drive/MyDrive/samples/5dxnm.png', '/content/drive/MyDrive/samples/5ep3n.png', '/content/drive/MyDrive/samples/5bg8f.png', '/content/drive/MyDrive/samples/5bgp2.png', '/content/drive/MyDrive/samples/5bnd7.png', '/content/drive/MyDrive/samples/6gnm3.png', '/content/drive/MyDrive/samples/6g45w.png', '/content/drive/MyDrive/samples/6fn84.png', '/content/drive/MyDrive/samples/6ge3p.png', '/content/drive/MyDrive/samples/6fgdw.png', '/content/drive/MyDrive/samples/6f857.png', '/content/drive/MyDrive/samples/6e6pn.png', '/content/drive/MyDrive/samples/6f2yc.png', '/content/drive/MyDrive/samples/6fg8c.png', '/content/drive/MyDrive/samples/6end3.png', '/content/drive/MyDrive/samples/6ecbn.png', '/content/drive/MyDrive/samples/6e2dg.png', '/content/drive/MyDrive/samples/6e554.png', '/content/drive/MyDrive/samples/6dmx7.png', '/content/drive/MyDrive/samples/6dd2y.png', '/content/drive/MyDrive/samples/6c3p5.png', '/content/drive/MyDrive/samples/6cwxe.png', '/content/drive/MyDrive/samples/6c3n6.png', '/content/drive/MyDrive/samples/6bxwg.png', '/content/drive/MyDrive/samples/6cm6m.png', '/content/drive/MyDrive/samples/6bnnm.png', '/content/drive/MyDrive/samples/6bdn5.png', '/content/drive/MyDrive/samples/6b4w6.png', '/content/drive/MyDrive/samples/6b46g.png', '/content/drive/MyDrive/samples/68x48.png', '/content/drive/MyDrive/samples/6825y.png', '/content/drive/MyDrive/samples/677g3.png', '/content/drive/MyDrive/samples/68wfd.png', '/content/drive/MyDrive/samples/678w3.png', '/content/drive/MyDrive/samples/67dey.png', '/content/drive/MyDrive/samples/675p3.png', '/content/drive/MyDrive/samples/664dn.png', '/content/drive/MyDrive/samples/664nf.png', '/content/drive/MyDrive/samples/66wp5.png', '/content/drive/MyDrive/samples/662bw.png', '/content/drive/MyDrive/samples/62nb3.png', '/content/drive/MyDrive/samples/63824.png', '/content/drive/MyDrive/samples/63pxe.png', '/content/drive/MyDrive/samples/646x8.png', '/content/drive/MyDrive/samples/65ebm.png', '/content/drive/MyDrive/samples/658xe.png', '/content/drive/MyDrive/samples/65m85.png', '/content/drive/MyDrive/samples/64b3p.png', '/content/drive/MyDrive/samples/64m82.png', '/content/drive/MyDrive/samples/5yxgp.png', '/content/drive/MyDrive/samples/5x7x5.png', '/content/drive/MyDrive/samples/5ywwf.png', '/content/drive/MyDrive/samples/5xd2e.png', '/content/drive/MyDrive/samples/5x5nx.png', '/content/drive/MyDrive/samples/5xwcg.png', '/content/drive/MyDrive/samples/7b4bm.png', '/content/drive/MyDrive/samples/7bb7b.png', '/content/drive/MyDrive/samples/7bwm2.png', '/content/drive/MyDrive/samples/78eec.png', '/content/drive/MyDrive/samples/785n4.png', '/content/drive/MyDrive/samples/77n6g.png', '/content/drive/MyDrive/samples/77wp4.png', '/content/drive/MyDrive/samples/77387.png', '/content/drive/MyDrive/samples/76y6f.png', '/content/drive/MyDrive/samples/76nxn.png', '/content/drive/MyDrive/samples/76353.png', '/content/drive/MyDrive/samples/7634y.png', '/content/drive/MyDrive/samples/76n7p.png', '/content/drive/MyDrive/samples/75pfw.png', '/content/drive/MyDrive/samples/73mnx.png', '/content/drive/MyDrive/samples/72m6f.png', '/content/drive/MyDrive/samples/728n8.png', '/content/drive/MyDrive/samples/74eyg.png', '/content/drive/MyDrive/samples/74853.png', '/content/drive/MyDrive/samples/6ydyp.png', '/content/drive/MyDrive/samples/6xen4.png', '/content/drive/MyDrive/samples/6xpme.png', '/content/drive/MyDrive/samples/6xxdx.png', '/content/drive/MyDrive/samples/6wnyc.png', '/content/drive/MyDrive/samples/6pfy4.png', '/content/drive/MyDrive/samples/6wb76.png', '/content/drive/MyDrive/samples/6p7gx.png', '/content/drive/MyDrive/samples/6pwcn.png', '/content/drive/MyDrive/samples/6wg4n.png', '/content/drive/MyDrive/samples/6p2ge.png', '/content/drive/MyDrive/samples/6n5fd.png', '/content/drive/MyDrive/samples/6ng6w.png', '/content/drive/MyDrive/samples/6n6gg.png', '/content/drive/MyDrive/samples/6ng6n.png', '/content/drive/MyDrive/samples/6mygb.png', '/content/drive/MyDrive/samples/6mn8n.png', '/content/drive/MyDrive/samples/6n443.png', '/content/drive/MyDrive/samples/6m5eg.png', '/content/drive/MyDrive/samples/6mege.png', '/content/drive/MyDrive/samples/823p2.png', '/content/drive/MyDrive/samples/7yf62.png', '/content/drive/MyDrive/samples/7xd5m.png', '/content/drive/MyDrive/samples/7y2x4.png', '/content/drive/MyDrive/samples/7xcyd.png', '/content/drive/MyDrive/samples/7pn5g.png', '/content/drive/MyDrive/samples/7wn74.png', '/content/drive/MyDrive/samples/7w67m.png', '/content/drive/MyDrive/samples/7wnpm.png', '/content/drive/MyDrive/samples/7wyp4.png', '/content/drive/MyDrive/samples/7pcd7.png', '/content/drive/MyDrive/samples/7mgmf.png', '/content/drive/MyDrive/samples/7p852.png', '/content/drive/MyDrive/samples/7nnnx.png', '/content/drive/MyDrive/samples/7m8px.png', '/content/drive/MyDrive/samples/7gp47.png', '/content/drive/MyDrive/samples/7gnge.png', '/content/drive/MyDrive/samples/7g3nf.png', '/content/drive/MyDrive/samples/7gce6.png', '/content/drive/MyDrive/samples/7gmf3.png', '/content/drive/MyDrive/samples/7fmcy.png', '/content/drive/MyDrive/samples/7f8b3.png', '/content/drive/MyDrive/samples/7fde7.png', '/content/drive/MyDrive/samples/7e2y7.png', '/content/drive/MyDrive/samples/7dyww.png', '/content/drive/MyDrive/samples/7cgym.png', '/content/drive/MyDrive/samples/7dxbd.png', '/content/drive/MyDrive/samples/7dgc2.png', '/content/drive/MyDrive/samples/7dwx4.png', '/content/drive/MyDrive/samples/7d44m.png', '/content/drive/MyDrive/samples/7cdge.png', '/content/drive/MyDrive/samples/8ne4g.png', '/content/drive/MyDrive/samples/8n4n8.png', '/content/drive/MyDrive/samples/8n65n.png', '/content/drive/MyDrive/samples/8nbew.png', '/content/drive/MyDrive/samples/8n5pn.png', '/content/drive/MyDrive/samples/8n62n.png', '/content/drive/MyDrive/samples/8n5p3.png', '/content/drive/MyDrive/samples/8n34n.png', '/content/drive/MyDrive/samples/8n2pg.png', '/content/drive/MyDrive/samples/8n56m.png', '/content/drive/MyDrive/samples/8gmnx.png', '/content/drive/MyDrive/samples/8gmc4.png', '/content/drive/MyDrive/samples/8gecm.png', '/content/drive/MyDrive/samples/8gf7n.png', '/content/drive/MyDrive/samples/8g4yp.png', '/content/drive/MyDrive/samples/8d8ep.png', '/content/drive/MyDrive/samples/8e32m.png', '/content/drive/MyDrive/samples/8fexn.png', '/content/drive/MyDrive/samples/8db67.png', '/content/drive/MyDrive/samples/8eggg.png', '/content/drive/MyDrive/samples/8d4wm.png', '/content/drive/MyDrive/samples/8cm46.png', '/content/drive/MyDrive/samples/8cccc.png', '/content/drive/MyDrive/samples/8d2nd.png', '/content/drive/MyDrive/samples/8c2wy.png', '/content/drive/MyDrive/samples/88y52.png', '/content/drive/MyDrive/samples/8c23f.png', '/content/drive/MyDrive/samples/8b735.png', '/content/drive/MyDrive/samples/8bbw8.png', '/content/drive/MyDrive/samples/8bbm4.png', '/content/drive/MyDrive/samples/88bgx.png', '/content/drive/MyDrive/samples/87nym.png', '/content/drive/MyDrive/samples/87d4c.png', '/content/drive/MyDrive/samples/8684m.png', '/content/drive/MyDrive/samples/865wm.png', '/content/drive/MyDrive/samples/832f3.png', '/content/drive/MyDrive/samples/82fx2.png', '/content/drive/MyDrive/samples/85622.png', '/content/drive/MyDrive/samples/85dxn.png', '/content/drive/MyDrive/samples/84w7x.png', '/content/drive/MyDrive/samples/b84xc.png', '/content/drive/MyDrive/samples/b6f2p.png', '/content/drive/MyDrive/samples/b5pnn.png', '/content/drive/MyDrive/samples/b685n.png', '/content/drive/MyDrive/samples/b5nmm.png', '/content/drive/MyDrive/samples/b55d6.png', '/content/drive/MyDrive/samples/b4y5x.png', '/content/drive/MyDrive/samples/b4ncn.png', '/content/drive/MyDrive/samples/b5dn4.png', '/content/drive/MyDrive/samples/b5fm7.png', '/content/drive/MyDrive/samples/b4d7c.png', '/content/drive/MyDrive/samples/b35f6.png', '/content/drive/MyDrive/samples/b3xpn.png', '/content/drive/MyDrive/samples/b43nw.png', '/content/drive/MyDrive/samples/b2nen.png', '/content/drive/MyDrive/samples/b26nd.png', '/content/drive/MyDrive/samples/8ypdn.png', '/content/drive/MyDrive/samples/b2g8e.png', '/content/drive/MyDrive/samples/b28g8.png', '/content/drive/MyDrive/samples/8y6b3.png', '/content/drive/MyDrive/samples/8y63f.png', '/content/drive/MyDrive/samples/8xef7.png', '/content/drive/MyDrive/samples/8wy7d.png', '/content/drive/MyDrive/samples/8w875.png', '/content/drive/MyDrive/samples/8w754.png', '/content/drive/MyDrive/samples/8pfxx.png', '/content/drive/MyDrive/samples/8npd5.png', '/content/drive/MyDrive/samples/8np22.png', '/content/drive/MyDrive/samples/8nn73.png', '/content/drive/MyDrive/samples/8npe3.png', '/content/drive/MyDrive/samples/c353e.png', '/content/drive/MyDrive/samples/c3572.png', '/content/drive/MyDrive/samples/c3n8x.png', '/content/drive/MyDrive/samples/c2yn8.png', '/content/drive/MyDrive/samples/c2pg6.png', '/content/drive/MyDrive/samples/byfgn.png', '/content/drive/MyDrive/samples/c2g4d.png', '/content/drive/MyDrive/samples/byc82.png', '/content/drive/MyDrive/samples/c2fb7.png', '/content/drive/MyDrive/samples/by5y3.png', '/content/drive/MyDrive/samples/bxxfc.png', '/content/drive/MyDrive/samples/bw6n6.png', '/content/drive/MyDrive/samples/bwmee.png', '/content/drive/MyDrive/samples/bw5ym.png', '/content/drive/MyDrive/samples/bw44w.png', '/content/drive/MyDrive/samples/bp6mw.png', '/content/drive/MyDrive/samples/bw5nf.png', '/content/drive/MyDrive/samples/bpwd7.png', '/content/drive/MyDrive/samples/bp2d4.png', '/content/drive/MyDrive/samples/bny4w.png', '/content/drive/MyDrive/samples/bnc5f.png', '/content/drive/MyDrive/samples/bny23.png', '/content/drive/MyDrive/samples/bnc2f.png', '/content/drive/MyDrive/samples/bn5mw.png', '/content/drive/MyDrive/samples/bgb48.png', '/content/drive/MyDrive/samples/bgem5.png', '/content/drive/MyDrive/samples/bmxpe.png', '/content/drive/MyDrive/samples/bgd4m.png', '/content/drive/MyDrive/samples/bm3p8.png', '/content/drive/MyDrive/samples/bf52c.png', '/content/drive/MyDrive/samples/be3bp.png', '/content/drive/MyDrive/samples/befbd.png', '/content/drive/MyDrive/samples/be6np.png', '/content/drive/MyDrive/samples/bdg84.png', '/content/drive/MyDrive/samples/bbymy.png', '/content/drive/MyDrive/samples/bcwnn.png', '/content/drive/MyDrive/samples/bdbb3.png', '/content/drive/MyDrive/samples/bc8nf.png', '/content/drive/MyDrive/samples/bd3b7.png', '/content/drive/MyDrive/samples/cm6yb.png', '/content/drive/MyDrive/samples/cnex4.png', '/content/drive/MyDrive/samples/cnmnn.png', '/content/drive/MyDrive/samples/cgcgb.png', '/content/drive/MyDrive/samples/cfp86.png', '/content/drive/MyDrive/samples/cg5dd.png', '/content/drive/MyDrive/samples/cffp4.png', '/content/drive/MyDrive/samples/cfn53.png', '/content/drive/MyDrive/samples/cfw6e.png', '/content/drive/MyDrive/samples/cfc56.png', '/content/drive/MyDrive/samples/cewnm.png', '/content/drive/MyDrive/samples/cen55.png', '/content/drive/MyDrive/samples/cfc2y.png', '/content/drive/MyDrive/samples/cdmn8.png', '/content/drive/MyDrive/samples/cdfen.png', '/content/drive/MyDrive/samples/cd4eg.png', '/content/drive/MyDrive/samples/cdf77.png', '/content/drive/MyDrive/samples/cd6p4.png', '/content/drive/MyDrive/samples/cdcb3.png', '/content/drive/MyDrive/samples/ccn2x.png', '/content/drive/MyDrive/samples/ccf2w.png', '/content/drive/MyDrive/samples/cc845.png', '/content/drive/MyDrive/samples/cb8cf.png', '/content/drive/MyDrive/samples/c8n8c.png', '/content/drive/MyDrive/samples/c7gb3.png', '/content/drive/MyDrive/samples/c8fxy.png', '/content/drive/MyDrive/samples/c753e.png', '/content/drive/MyDrive/samples/c7nn8.png', '/content/drive/MyDrive/samples/c86md.png', '/content/drive/MyDrive/samples/c6we6.png', '/content/drive/MyDrive/samples/c5xne.png', '/content/drive/MyDrive/samples/c6745.png', '/content/drive/MyDrive/samples/c6f8g.png', '/content/drive/MyDrive/samples/c55c6.png', '/content/drive/MyDrive/samples/c482b.png', '/content/drive/MyDrive/samples/c4bgd.png', '/content/drive/MyDrive/samples/c4527.png', '/content/drive/MyDrive/samples/c4mcm.png', '/content/drive/MyDrive/samples/c4bny.png', '/content/drive/MyDrive/samples/c43b4.png', '/content/drive/MyDrive/samples/d7en3.png', '/content/drive/MyDrive/samples/d75b5.png', '/content/drive/MyDrive/samples/d66cn.png', '/content/drive/MyDrive/samples/d7c5x.png', '/content/drive/MyDrive/samples/d6fcn.png', '/content/drive/MyDrive/samples/d666m.png', '/content/drive/MyDrive/samples/d4ppy.png', '/content/drive/MyDrive/samples/d3ycn.png', '/content/drive/MyDrive/samples/d4n82.png', '/content/drive/MyDrive/samples/d3c8y.png', '/content/drive/MyDrive/samples/d236n.png', '/content/drive/MyDrive/samples/d2nbn.png', '/content/drive/MyDrive/samples/d2ycw.png', '/content/drive/MyDrive/samples/d3c7y.png', '/content/drive/MyDrive/samples/d378n.png', '/content/drive/MyDrive/samples/d22y5.png', '/content/drive/MyDrive/samples/d22n7.png', '/content/drive/MyDrive/samples/cy3nw.png', '/content/drive/MyDrive/samples/d22bd.png', '/content/drive/MyDrive/samples/cx3wg.png', '/content/drive/MyDrive/samples/cwgyx.png', '/content/drive/MyDrive/samples/cpc8c.png', '/content/drive/MyDrive/samples/cwdnx.png', '/content/drive/MyDrive/samples/cpe63.png', '/content/drive/MyDrive/samples/cwmny.png', '/content/drive/MyDrive/samples/cnwyc.png', '/content/drive/MyDrive/samples/e25xg.png', '/content/drive/MyDrive/samples/dxwcw.png', '/content/drive/MyDrive/samples/dyp7n.png', '/content/drive/MyDrive/samples/dw8d3.png', '/content/drive/MyDrive/samples/dy3cx.png', '/content/drive/MyDrive/samples/dyxnc.png', '/content/drive/MyDrive/samples/dw6mn.png', '/content/drive/MyDrive/samples/dnxdp.png', '/content/drive/MyDrive/samples/dw3nn.png', '/content/drive/MyDrive/samples/dpbyd.png', '/content/drive/MyDrive/samples/dnne7.png', '/content/drive/MyDrive/samples/dn5df.png', '/content/drive/MyDrive/samples/dn26n.png', '/content/drive/MyDrive/samples/dnmd8.png', '/content/drive/MyDrive/samples/dn2ym.png', '/content/drive/MyDrive/samples/dmxp8.png', '/content/drive/MyDrive/samples/dmx8p.png', '/content/drive/MyDrive/samples/deneb.png', '/content/drive/MyDrive/samples/dmw8n.png', '/content/drive/MyDrive/samples/dfnx4.png', '/content/drive/MyDrive/samples/defyx.png', '/content/drive/MyDrive/samples/ddpyb.png', '/content/drive/MyDrive/samples/de7f8.png', '/content/drive/MyDrive/samples/de45x.png', '/content/drive/MyDrive/samples/deep5.png', '/content/drive/MyDrive/samples/ddnpf.png', '/content/drive/MyDrive/samples/ddmyg.png', '/content/drive/MyDrive/samples/ddcdd.png', '/content/drive/MyDrive/samples/ddcne.png', '/content/drive/MyDrive/samples/dd764.png', '/content/drive/MyDrive/samples/dbex3.png', '/content/drive/MyDrive/samples/d8xcn.png', '/content/drive/MyDrive/samples/d8dce.png', '/content/drive/MyDrive/samples/d7nn3.png', '/content/drive/MyDrive/samples/dbfen.png', '/content/drive/MyDrive/samples/dd5w5.png', '/content/drive/MyDrive/samples/dbpcd.png', '/content/drive/MyDrive/samples/dc436.png', '/content/drive/MyDrive/samples/dce8y.png', '/content/drive/MyDrive/samples/dbny3.png', '/content/drive/MyDrive/samples/dcnp8.png', '/content/drive/MyDrive/samples/emwpn.png', '/content/drive/MyDrive/samples/efgx5.png', '/content/drive/MyDrive/samples/efx34.png', '/content/drive/MyDrive/samples/egxmp.png', '/content/drive/MyDrive/samples/efe62.png', '/content/drive/MyDrive/samples/ef4np.png', '/content/drive/MyDrive/samples/efg72.png', '/content/drive/MyDrive/samples/ef4mn.png', '/content/drive/MyDrive/samples/efb3f.png', '/content/drive/MyDrive/samples/ee8fg.png', '/content/drive/MyDrive/samples/een23.png', '/content/drive/MyDrive/samples/edg3p.png', '/content/drive/MyDrive/samples/edwny.png', '/content/drive/MyDrive/samples/ecd4w.png', '/content/drive/MyDrive/samples/ec6pm.png', '/content/drive/MyDrive/samples/e8dxn.png', '/content/drive/MyDrive/samples/e84n2.png', '/content/drive/MyDrive/samples/ebcbx.png', '/content/drive/MyDrive/samples/e7x45.png', '/content/drive/MyDrive/samples/e8e5e.png', '/content/drive/MyDrive/samples/e7nx4.png', '/content/drive/MyDrive/samples/e72cd.png', '/content/drive/MyDrive/samples/e6m6p.png', '/content/drive/MyDrive/samples/e76n4.png', '/content/drive/MyDrive/samples/e6b7y.png', '/content/drive/MyDrive/samples/e667x.png', '/content/drive/MyDrive/samples/e5n66.png', '/content/drive/MyDrive/samples/e46yw.png', '/content/drive/MyDrive/samples/e46pd.png', '/content/drive/MyDrive/samples/e4gd7.png', '/content/drive/MyDrive/samples/e43ym.png', '/content/drive/MyDrive/samples/e2d66.png', '/content/drive/MyDrive/samples/e3ndn.png', '/content/drive/MyDrive/samples/e2mg2.png', '/content/drive/MyDrive/samples/f858x.png', '/content/drive/MyDrive/samples/f83pn.png', '/content/drive/MyDrive/samples/f7cey.png', '/content/drive/MyDrive/samples/f75cx.png', '/content/drive/MyDrive/samples/f753f.png', '/content/drive/MyDrive/samples/f5cm2.png', '/content/drive/MyDrive/samples/f6ww8.png', '/content/drive/MyDrive/samples/f74x3.png', '/content/drive/MyDrive/samples/f5e5e.png', '/content/drive/MyDrive/samples/f6ne5.png', '/content/drive/MyDrive/samples/f4wfn.png', '/content/drive/MyDrive/samples/f35xp.png', '/content/drive/MyDrive/samples/f4fn2.png', '/content/drive/MyDrive/samples/f364x.png', '/content/drive/MyDrive/samples/f2m8n.png', '/content/drive/MyDrive/samples/f228n.png', '/content/drive/MyDrive/samples/f22bn.png', '/content/drive/MyDrive/samples/f2fge.png', '/content/drive/MyDrive/samples/exycn.png', '/content/drive/MyDrive/samples/excmn.png', '/content/drive/MyDrive/samples/ewnx8.png', '/content/drive/MyDrive/samples/ewcf5.png', '/content/drive/MyDrive/samples/ep85x.png', '/content/drive/MyDrive/samples/eppg3.png', '/content/drive/MyDrive/samples/ennmm.png', '/content/drive/MyDrive/samples/en32e.png', '/content/drive/MyDrive/samples/eng53.png', '/content/drive/MyDrive/samples/enn7n.png', '/content/drive/MyDrive/samples/en4n4.png', '/content/drive/MyDrive/samples/enpw2.png', '/content/drive/MyDrive/samples/gc2wd.png', '/content/drive/MyDrive/samples/gc277.png', '/content/drive/MyDrive/samples/gbxyy.png', '/content/drive/MyDrive/samples/g888x.png', '/content/drive/MyDrive/samples/g842c.png', '/content/drive/MyDrive/samples/g8gnd.png', '/content/drive/MyDrive/samples/g7wxw.png', '/content/drive/MyDrive/samples/g7gnf.png', '/content/drive/MyDrive/samples/g7fmc.png', '/content/drive/MyDrive/samples/g78gn.png', '/content/drive/MyDrive/samples/g6n7x.png', '/content/drive/MyDrive/samples/g2577.png', '/content/drive/MyDrive/samples/g3ex3.png', '/content/drive/MyDrive/samples/g3dy6.png', '/content/drive/MyDrive/samples/g2fnw.png', '/content/drive/MyDrive/samples/g55b4.png', '/content/drive/MyDrive/samples/g247w.png', '/content/drive/MyDrive/samples/fywb8.png', '/content/drive/MyDrive/samples/fyfbn.png', '/content/drive/MyDrive/samples/fxpw3.png', '/content/drive/MyDrive/samples/fy2nd.png', '/content/drive/MyDrive/samples/fpw76.png', '/content/drive/MyDrive/samples/fw3b2.png', '/content/drive/MyDrive/samples/fwxdp.png', '/content/drive/MyDrive/samples/fp762.png', '/content/drive/MyDrive/samples/fp5wn.png', '/content/drive/MyDrive/samples/fp3wy.png', '/content/drive/MyDrive/samples/fnbfw.png', '/content/drive/MyDrive/samples/fncnb.png', '/content/drive/MyDrive/samples/fp382.png', '/content/drive/MyDrive/samples/fg8n4.png', '/content/drive/MyDrive/samples/fg38b.png', '/content/drive/MyDrive/samples/ffpxf.png', '/content/drive/MyDrive/samples/fg7mg.png', '/content/drive/MyDrive/samples/ffnxn.png', '/content/drive/MyDrive/samples/ffd6p.png', '/content/drive/MyDrive/samples/feyc8.png', '/content/drive/MyDrive/samples/fcne6.png', '/content/drive/MyDrive/samples/fcmem.png', '/content/drive/MyDrive/samples/fdpgd.png', '/content/drive/MyDrive/samples/fcey3.png', '/content/drive/MyDrive/samples/fc2ff.png', '/content/drive/MyDrive/samples/fc6xb.png', '/content/drive/MyDrive/samples/fbp2c.png', '/content/drive/MyDrive/samples/f85y3.png', '/content/drive/MyDrive/samples/f8f8g.png', '/content/drive/MyDrive/samples/gxx2p.png', '/content/drive/MyDrive/samples/gwnm6.png', '/content/drive/MyDrive/samples/gwn53.png', '/content/drive/MyDrive/samples/gw53m.png', '/content/drive/MyDrive/samples/gw468.png', '/content/drive/MyDrive/samples/gny6b.png', '/content/drive/MyDrive/samples/gpnxn.png', '/content/drive/MyDrive/samples/gpxng.png', '/content/drive/MyDrive/samples/gp22x.png', '/content/drive/MyDrive/samples/gp7c5.png', '/content/drive/MyDrive/samples/gng6e.png', '/content/drive/MyDrive/samples/gnbn4.png', '/content/drive/MyDrive/samples/gnf85.png', '/content/drive/MyDrive/samples/gnc3n.png', '/content/drive/MyDrive/samples/gnbde.png', '/content/drive/MyDrive/samples/gm6nn.png', '/content/drive/MyDrive/samples/gm7n8.png', '/content/drive/MyDrive/samples/gm2c2.png', '/content/drive/MyDrive/samples/gn2xy.png', '/content/drive/MyDrive/samples/gn2d3.png', '/content/drive/MyDrive/samples/ggd7m.png', '/content/drive/MyDrive/samples/gfp54.png', '/content/drive/MyDrive/samples/gfbx6.png', '/content/drive/MyDrive/samples/gfxcc.png', '/content/drive/MyDrive/samples/gf2g4.png', '/content/drive/MyDrive/samples/gecmf.png', '/content/drive/MyDrive/samples/gdng3.png', '/content/drive/MyDrive/samples/gegw4.png', '/content/drive/MyDrive/samples/gd8fb.png', '/content/drive/MyDrive/samples/gewfy.png', '/content/drive/MyDrive/samples/gd4mf.png', '/content/drive/MyDrive/samples/gc83b.png', '/content/drive/MyDrive/samples/gcfgp.png', '/content/drive/MyDrive/samples/gcx6f.png', '/content/drive/MyDrive/samples/men4f.png', '/content/drive/MyDrive/samples/mfc35.png', '/content/drive/MyDrive/samples/mfb3x.png', '/content/drive/MyDrive/samples/mdyp7.png', '/content/drive/MyDrive/samples/md344.png', '/content/drive/MyDrive/samples/mdxpn.png', '/content/drive/MyDrive/samples/mcyfx.png', '/content/drive/MyDrive/samples/mcg43.png', '/content/drive/MyDrive/samples/mddgb.png', '/content/drive/MyDrive/samples/mcc2x.png', '/content/drive/MyDrive/samples/m74dm.png', '/content/drive/MyDrive/samples/m75bf.png', '/content/drive/MyDrive/samples/m8gmx.png', '/content/drive/MyDrive/samples/mb4en.png', '/content/drive/MyDrive/samples/m8m4x.png', '/content/drive/MyDrive/samples/mc35n.png', '/content/drive/MyDrive/samples/mbp2y.png', '/content/drive/MyDrive/samples/mc8w2.png', '/content/drive/MyDrive/samples/mbf58.png', '/content/drive/MyDrive/samples/m6n4x.png', '/content/drive/MyDrive/samples/m67b3.png', '/content/drive/MyDrive/samples/m5ym2.png', '/content/drive/MyDrive/samples/m5meg.png', '/content/drive/MyDrive/samples/m4g8g.png', '/content/drive/MyDrive/samples/m3wfw.png', '/content/drive/MyDrive/samples/m3b5p.png', '/content/drive/MyDrive/samples/m4fd8.png', '/content/drive/MyDrive/samples/m448b.png', '/content/drive/MyDrive/samples/m457d.png', '/content/drive/MyDrive/samples/m3588.png', '/content/drive/MyDrive/samples/m2576.png', '/content/drive/MyDrive/samples/m23bp.png', '/content/drive/MyDrive/samples/m2nf4.png', '/content/drive/MyDrive/samples/m22e3.png', '/content/drive/MyDrive/samples/gymmn.png', '/content/drive/MyDrive/samples/gy5bf.png', '/content/drive/MyDrive/samples/gy8xb.png', '/content/drive/MyDrive/samples/gxxpf.png', '/content/drive/MyDrive/samples/gy433.png', '/content/drive/MyDrive/samples/n4b4m.png', '/content/drive/MyDrive/samples/n464c.png', '/content/drive/MyDrive/samples/n4cpy.png', '/content/drive/MyDrive/samples/n3x4c.png', '/content/drive/MyDrive/samples/n3m6x.png', '/content/drive/MyDrive/samples/n3ffn.png', '/content/drive/MyDrive/samples/n3bm6.png', '/content/drive/MyDrive/samples/n336e.png', '/content/drive/MyDrive/samples/n373n.png', '/content/drive/MyDrive/samples/n2gmg.png', '/content/drive/MyDrive/samples/n2by7.png', '/content/drive/MyDrive/samples/myf82.png', '/content/drive/MyDrive/samples/n265y.png', '/content/drive/MyDrive/samples/my84e.png', '/content/drive/MyDrive/samples/mye68.png', '/content/drive/MyDrive/samples/myc3c.png', '/content/drive/MyDrive/samples/mxyxw.png', '/content/drive/MyDrive/samples/mxnw4.png', '/content/drive/MyDrive/samples/mx8bb.png', '/content/drive/MyDrive/samples/mwxwp.png', '/content/drive/MyDrive/samples/mwdf6.png', '/content/drive/MyDrive/samples/mnef5.png', '/content/drive/MyDrive/samples/mp7wp.png', '/content/drive/MyDrive/samples/mpxfb.png', '/content/drive/MyDrive/samples/mpmy5.png', '/content/drive/MyDrive/samples/mw5p2.png', '/content/drive/MyDrive/samples/mn5c4.png', '/content/drive/MyDrive/samples/mmy5n.png', '/content/drive/MyDrive/samples/mmg38.png', '/content/drive/MyDrive/samples/mmg2m.png', '/content/drive/MyDrive/samples/mmfm6.png', '/content/drive/MyDrive/samples/mggce.png', '/content/drive/MyDrive/samples/mm3nn.png', '/content/drive/MyDrive/samples/mgdwb.png', '/content/drive/MyDrive/samples/mgw3n.png', '/content/drive/MyDrive/samples/mmc5n.png', '/content/drive/MyDrive/samples/mg5nn.png', '/content/drive/MyDrive/samples/nd5wg.png', '/content/drive/MyDrive/samples/ncw4g.png', '/content/drive/MyDrive/samples/ncyx8.png', '/content/drive/MyDrive/samples/ncww7.png', '/content/drive/MyDrive/samples/ncfgb.png', '/content/drive/MyDrive/samples/nc4yg.png', '/content/drive/MyDrive/samples/nbwnn.png', '/content/drive/MyDrive/samples/nbwpn.png', '/content/drive/MyDrive/samples/nbp3e.png', '/content/drive/MyDrive/samples/nbmx7.png', '/content/drive/MyDrive/samples/nbfx5.png', '/content/drive/MyDrive/samples/nbcgb.png', '/content/drive/MyDrive/samples/nbf8m.png', '/content/drive/MyDrive/samples/nb45d.png', '/content/drive/MyDrive/samples/n7ff2.png', '/content/drive/MyDrive/samples/nb267.png', '/content/drive/MyDrive/samples/n8pfe.png', '/content/drive/MyDrive/samples/n8fp6.png', '/content/drive/MyDrive/samples/n7g4f.png', '/content/drive/MyDrive/samples/n8ydd.png', '/content/drive/MyDrive/samples/n7meb.png', '/content/drive/MyDrive/samples/n7dyb.png', '/content/drive/MyDrive/samples/n7ebx.png', '/content/drive/MyDrive/samples/n7enn.png', '/content/drive/MyDrive/samples/n6xc5.png', '/content/drive/MyDrive/samples/n5wbg.png', '/content/drive/MyDrive/samples/n6f4b.png', '/content/drive/MyDrive/samples/n5x2n.png', '/content/drive/MyDrive/samples/n5w5g.png', '/content/drive/MyDrive/samples/n6nn2.png', '/content/drive/MyDrive/samples/n5cm7.png', '/content/drive/MyDrive/samples/n5n8b.png', '/content/drive/MyDrive/samples/n4xx5.png', '/content/drive/MyDrive/samples/n4wwn.png', '/content/drive/MyDrive/samples/npxb7.png', '/content/drive/MyDrive/samples/nny5e.png', '/content/drive/MyDrive/samples/nnp4e.png', '/content/drive/MyDrive/samples/nnn5p.png', '/content/drive/MyDrive/samples/nnn57.png', '/content/drive/MyDrive/samples/nngxc.png', '/content/drive/MyDrive/samples/nm248.png', '/content/drive/MyDrive/samples/nnf8b.png', '/content/drive/MyDrive/samples/nnfx3.png', '/content/drive/MyDrive/samples/nn6mg.png', '/content/drive/MyDrive/samples/nn4wx.png', '/content/drive/MyDrive/samples/nmw46.png', '/content/drive/MyDrive/samples/nmy2x.png', '/content/drive/MyDrive/samples/ngn26.png', '/content/drive/MyDrive/samples/nm46n.png', '/content/drive/MyDrive/samples/ng756.png', '/content/drive/MyDrive/samples/ng2gw.png', '/content/drive/MyDrive/samples/ng46m.png', '/content/drive/MyDrive/samples/ng6yp.png', '/content/drive/MyDrive/samples/nfndw.png', '/content/drive/MyDrive/samples/nfcb5.png', '/content/drive/MyDrive/samples/nfg23.png', '/content/drive/MyDrive/samples/nfd8g.png', '/content/drive/MyDrive/samples/nfbg8.png', '/content/drive/MyDrive/samples/nfcwy.png', '/content/drive/MyDrive/samples/nf8b8.png', '/content/drive/MyDrive/samples/nf2n8.png', '/content/drive/MyDrive/samples/nf7bn.png', '/content/drive/MyDrive/samples/neggn.png', '/content/drive/MyDrive/samples/neecd.png', '/content/drive/MyDrive/samples/ndecc.png', '/content/drive/MyDrive/samples/ndme7.png', '/content/drive/MyDrive/samples/ndyfe.png', '/content/drive/MyDrive/samples/ne325.png', '/content/drive/MyDrive/samples/ndg2b.png', '/content/drive/MyDrive/samples/pdw38.png', '/content/drive/MyDrive/samples/pcpg6.png', '/content/drive/MyDrive/samples/pdcp4.png', '/content/drive/MyDrive/samples/pcede.png', '/content/drive/MyDrive/samples/pcm7f.png', '/content/drive/MyDrive/samples/p7fyp.png', '/content/drive/MyDrive/samples/pbpgc.png', '/content/drive/MyDrive/samples/p8wwf.png', '/content/drive/MyDrive/samples/p8c24.png', '/content/drive/MyDrive/samples/p8ngx.png', '/content/drive/MyDrive/samples/p6mn8.png', '/content/drive/MyDrive/samples/p5g5m.png', '/content/drive/MyDrive/samples/p5nce.png', '/content/drive/MyDrive/samples/p57fn.png', '/content/drive/MyDrive/samples/p4pde.png', '/content/drive/MyDrive/samples/p2dw7.png', '/content/drive/MyDrive/samples/p2m6n.png', '/content/drive/MyDrive/samples/p4nm4.png', '/content/drive/MyDrive/samples/p2x7x.png', '/content/drive/MyDrive/samples/p2ym2.png', '/content/drive/MyDrive/samples/p24gn.png', '/content/drive/MyDrive/samples/ny5dp.png', '/content/drive/MyDrive/samples/ny8np.png', '/content/drive/MyDrive/samples/nybcx.png', '/content/drive/MyDrive/samples/ny3nn.png', '/content/drive/MyDrive/samples/nxcmn.png', '/content/drive/MyDrive/samples/nxx25.png', '/content/drive/MyDrive/samples/nxn4f.png', '/content/drive/MyDrive/samples/ny3dw.png', '/content/drive/MyDrive/samples/nxxf8.png', '/content/drive/MyDrive/samples/nxc83.png', '/content/drive/MyDrive/samples/nwncn.png', '/content/drive/MyDrive/samples/nwg2m.png', '/content/drive/MyDrive/samples/nwfde.png', '/content/drive/MyDrive/samples/nw5b2.png', '/content/drive/MyDrive/samples/w2e87.png', '/content/drive/MyDrive/samples/w2yp7.png', '/content/drive/MyDrive/samples/w2n7e.png', '/content/drive/MyDrive/samples/pym7p.png', '/content/drive/MyDrive/samples/pxne8.png', '/content/drive/MyDrive/samples/pxdwp.png', '/content/drive/MyDrive/samples/pyf65.png', '/content/drive/MyDrive/samples/pybee.png', '/content/drive/MyDrive/samples/pyefb.png', '/content/drive/MyDrive/samples/px8n8.png', '/content/drive/MyDrive/samples/pwmbn.png', '/content/drive/MyDrive/samples/px2xp.png', '/content/drive/MyDrive/samples/pwn5e.png', '/content/drive/MyDrive/samples/pwebm.png', '/content/drive/MyDrive/samples/pp546.png', '/content/drive/MyDrive/samples/pp87n.png', '/content/drive/MyDrive/samples/pw5nc.png', '/content/drive/MyDrive/samples/ppx77.png', '/content/drive/MyDrive/samples/ppwyd.png', '/content/drive/MyDrive/samples/pnnwy.png', '/content/drive/MyDrive/samples/pnmxf.png', '/content/drive/MyDrive/samples/pn7pn.png', '/content/drive/MyDrive/samples/pmg55.png', '/content/drive/MyDrive/samples/pmf5w.png', '/content/drive/MyDrive/samples/pmd3w.png', '/content/drive/MyDrive/samples/pm363.png', '/content/drive/MyDrive/samples/pgwnp.png', '/content/drive/MyDrive/samples/pme86.png', '/content/drive/MyDrive/samples/pm47f.png', '/content/drive/MyDrive/samples/pgmn2.png', '/content/drive/MyDrive/samples/pg2yx.png', '/content/drive/MyDrive/samples/pg2pm.png', '/content/drive/MyDrive/samples/pf4nb.png', '/content/drive/MyDrive/samples/pdyc8.png', '/content/drive/MyDrive/samples/pgm2e.png', '/content/drive/MyDrive/samples/pgg3n.png', '/content/drive/MyDrive/samples/pf5ng.png', '/content/drive/MyDrive/samples/pe4xn.png', '/content/drive/MyDrive/samples/pg4bf.png', '/content/drive/MyDrive/samples/wwmn6.png', '/content/drive/MyDrive/samples/wmpmp.png', '/content/drive/MyDrive/samples/wnmyn.png', '/content/drive/MyDrive/samples/wnpec.png', '/content/drive/MyDrive/samples/wm746.png', '/content/drive/MyDrive/samples/wgnwp.png', '/content/drive/MyDrive/samples/wfy5m.png', '/content/drive/MyDrive/samples/wg625.png', '/content/drive/MyDrive/samples/wf684.png', '/content/drive/MyDrive/samples/wm47f.png', '/content/drive/MyDrive/samples/wecfd.png', '/content/drive/MyDrive/samples/wddcp.png', '/content/drive/MyDrive/samples/wdww8.png', '/content/drive/MyDrive/samples/wd2gb.png', '/content/drive/MyDrive/samples/wce5n.png', '/content/drive/MyDrive/samples/w8bnx.png', '/content/drive/MyDrive/samples/wb3ed.png', '/content/drive/MyDrive/samples/w8f36.png', '/content/drive/MyDrive/samples/wbncw.png', '/content/drive/MyDrive/samples/wc2bd.png', '/content/drive/MyDrive/samples/w7e6m.png', '/content/drive/MyDrive/samples/w6yne.png', '/content/drive/MyDrive/samples/w75w8.png', '/content/drive/MyDrive/samples/w6pxy.png', '/content/drive/MyDrive/samples/w52fn.png', '/content/drive/MyDrive/samples/w4nfx.png', '/content/drive/MyDrive/samples/w4cdc.png', '/content/drive/MyDrive/samples/w4cnn.png', '/content/drive/MyDrive/samples/w4x2m.png', '/content/drive/MyDrive/samples/w48cw.png', '/content/drive/MyDrive/samples/w46ep.png', '/content/drive/MyDrive/samples/xbcbx.png', '/content/drive/MyDrive/samples/xdcn4.png', '/content/drive/MyDrive/samples/xcmbp.png', '/content/drive/MyDrive/samples/xbem6.png', '/content/drive/MyDrive/samples/xce8d.png', '/content/drive/MyDrive/samples/xcf88.png', '/content/drive/MyDrive/samples/xc68n.png', '/content/drive/MyDrive/samples/xdn65.png', '/content/drive/MyDrive/samples/xe8xm.png', '/content/drive/MyDrive/samples/xe6eb.png', '/content/drive/MyDrive/samples/x8xnp.png', '/content/drive/MyDrive/samples/x8e8n.png', '/content/drive/MyDrive/samples/x775w.png', '/content/drive/MyDrive/samples/x7746.png', '/content/drive/MyDrive/samples/x7547.png', '/content/drive/MyDrive/samples/x76mn.png', '/content/drive/MyDrive/samples/x7422.png', '/content/drive/MyDrive/samples/x6pdb.png', '/content/drive/MyDrive/samples/x74b2.png', '/content/drive/MyDrive/samples/x6b5m.png', '/content/drive/MyDrive/samples/x4f7g.png', '/content/drive/MyDrive/samples/x5f54.png', '/content/drive/MyDrive/samples/x5nyn.png', '/content/drive/MyDrive/samples/x4pnp.png', '/content/drive/MyDrive/samples/x4gg5.png', '/content/drive/MyDrive/samples/x3fwf.png', '/content/drive/MyDrive/samples/x458w.png', '/content/drive/MyDrive/samples/x3deb.png', '/content/drive/MyDrive/samples/x44n4.png', '/content/drive/MyDrive/samples/x38fn.png', '/content/drive/MyDrive/samples/x37bf.png', '/content/drive/MyDrive/samples/x347n.png', '/content/drive/MyDrive/samples/x362g.png', '/content/drive/MyDrive/samples/x2cnn.png', '/content/drive/MyDrive/samples/x277e.png', '/content/drive/MyDrive/samples/wxy4n.png', '/content/drive/MyDrive/samples/wxcn8.png', '/content/drive/MyDrive/samples/wye85.png', '/content/drive/MyDrive/samples/wyc25.png', '/content/drive/MyDrive/samples/y4g3b.png', '/content/drive/MyDrive/samples/y4ec2.png', '/content/drive/MyDrive/samples/y3c58.png', '/content/drive/MyDrive/samples/y48c3.png', '/content/drive/MyDrive/samples/y33nm.png', '/content/drive/MyDrive/samples/y32yy.png', '/content/drive/MyDrive/samples/xyyyw.png', '/content/drive/MyDrive/samples/y2ye8.png', '/content/drive/MyDrive/samples/y2436.png', '/content/drive/MyDrive/samples/y2xg4.png', '/content/drive/MyDrive/samples/xyncc.png', '/content/drive/MyDrive/samples/xymfn.png', '/content/drive/MyDrive/samples/xxney.png', '/content/drive/MyDrive/samples/xxw44.png', '/content/drive/MyDrive/samples/xxbm5.png', '/content/drive/MyDrive/samples/xnnc3.png', '/content/drive/MyDrive/samples/xw465.png', '/content/drive/MyDrive/samples/xp24p.png', '/content/drive/MyDrive/samples/xwx7d.png', '/content/drive/MyDrive/samples/xnn4d.png', '/content/drive/MyDrive/samples/xngxc.png', '/content/drive/MyDrive/samples/xmcym.png', '/content/drive/MyDrive/samples/xnd3y.png', '/content/drive/MyDrive/samples/xnfx5.png', '/content/drive/MyDrive/samples/xgcxy.png', '/content/drive/MyDrive/samples/xfg65.png', '/content/drive/MyDrive/samples/xfn6n.png', '/content/drive/MyDrive/samples/xfgxb.png', '/content/drive/MyDrive/samples/xf4p4.png', '/content/drive/MyDrive/samples/xf5g7.png', '/content/drive/MyDrive/samples/xemyg.png', '/content/drive/MyDrive/samples/yyg5g.png', '/content/drive/MyDrive/samples/yyn57.png', '/content/drive/MyDrive/samples/yy824.png', '/content/drive/MyDrive/samples/yxd7m.png', '/content/drive/MyDrive/samples/ypw3d.png', '/content/drive/MyDrive/samples/yw667.png', '/content/drive/MyDrive/samples/yw7ny.png', '/content/drive/MyDrive/samples/ywn6f.png', '/content/drive/MyDrive/samples/yx2d4.png', '/content/drive/MyDrive/samples/ypp8f.png', '/content/drive/MyDrive/samples/ymp7g.png', '/content/drive/MyDrive/samples/ygenn.png', '/content/drive/MyDrive/samples/ygfwe.png', '/content/drive/MyDrive/samples/yfdn7.png', '/content/drive/MyDrive/samples/yg5bb.png', '/content/drive/MyDrive/samples/yf28d.png', '/content/drive/MyDrive/samples/yeyn4.png', '/content/drive/MyDrive/samples/yf424.png', '/content/drive/MyDrive/samples/yf347.png', '/content/drive/MyDrive/samples/yew6p.png', '/content/drive/MyDrive/samples/yemy4.png', '/content/drive/MyDrive/samples/ydd3g.png', '/content/drive/MyDrive/samples/ydg8n.png', '/content/drive/MyDrive/samples/yd755.png', '/content/drive/MyDrive/samples/ycmcw.png', '/content/drive/MyDrive/samples/ycnfc.png', '/content/drive/MyDrive/samples/ybfx6.png', '/content/drive/MyDrive/samples/yd38e.png', '/content/drive/MyDrive/samples/yd3m3.png', '/content/drive/MyDrive/samples/y866y.png', '/content/drive/MyDrive/samples/y7x8p.png', '/content/drive/MyDrive/samples/y7d75.png', '/content/drive/MyDrive/samples/y7mnm.png', '/content/drive/MyDrive/samples/y5w28.png', '/content/drive/MyDrive/samples/y5dpp.png', '/content/drive/MyDrive/samples/y5g87.png', '/content/drive/MyDrive/samples/y4n6m.png', '/content/drive/MyDrive/samples/y53c2.png', '/content/drive/MyDrive/samples/y5n6d.png']\n",
            "1040\n"
          ]
        }
      ],
      "source": [
        "import string\n",
        "import glob\n",
        "import tqdm\n",
        "from PIL import Image\n",
        "\n",
        "imgpath = \"/content/drive/MyDrive/samples/*.png\"\n",
        "imgfiles = glob.glob(imgpath)\n",
        "print(imgfiles)\n",
        "print(len(imgfiles))"
      ]
    },
    {
      "cell_type": "code",
      "source": [
        "import torch\n",
        "import torch.nn as nn\n",
        "import torch.nn.functional as F\n",
        "\n",
        "#기본 블럭\n",
        "class BasicBlock(nn.Module):\n",
        "  def __init__(self, \n",
        "               in_channels, \n",
        "               out_channels, \n",
        "               kernel_size=(3, 5), \n",
        "               stride=(2, 1)):\n",
        "    \n",
        "    super(BasicBlock, self).__init__()\n",
        "\n",
        "    self.c1 = nn.Conv2d(in_channels=in_channels, \n",
        "                        out_channels=out_channels,\n",
        "                        kernel_size=kernel_size, \n",
        "                        stride=stride)\n",
        "      \n",
        "    self.c2 = nn.Conv2d(in_channels=out_channels, \n",
        "                        out_channels=out_channels,\n",
        "                        kernel_size=(3, 3), padding=1)\n",
        "\n",
        "    self.downsample = nn.Conv2d(in_channels=in_channels, \n",
        "                                out_channels=out_channels,\n",
        "                                kernel_size=kernel_size, \n",
        "                                stride=stride)\n",
        "\n",
        "    self.bn1 = nn.BatchNorm2d(num_features=out_channels)\n",
        "    self.bn2 = nn.BatchNorm2d(num_features=out_channels)\n",
        "\n",
        "    self.relu = nn.ReLU()\n",
        "\n",
        "  def forward(self, x):\n",
        "    x_ = x\n",
        "\n",
        "    x = self.c1(x)\n",
        "    x = self.bn1(x)\n",
        "    x = self.relu(x)\n",
        "    x = self.c2(x)\n",
        "    x = self.bn2(x)\n",
        "\n",
        "    x_ = self.downsample(x_)\n",
        "\n",
        "    x += x_\n",
        "    x = self.relu(x)\n",
        "\n",
        "    return x"
      ],
      "metadata": {
        "id": "DiAx70zqLacn"
      },
      "execution_count": 87,
      "outputs": []
    },
    {
      "cell_type": "code",
      "source": [
        "class CRNN(nn.Module):\n",
        "  def __init__(self, output_size):\n",
        "    super(CRNN, self).__init__()\n",
        "\n",
        "    self.c1 = BasicBlock(in_channels=3, out_channels=64)\n",
        "    self.c2 = BasicBlock(in_channels=64, out_channels=64)\n",
        "    self.c3 = BasicBlock(in_channels=64, out_channels=64)\n",
        "    self.c4 = BasicBlock(in_channels=64, out_channels=64)\n",
        "    self.c5 = nn.Conv2d(64, 64, kernel_size=(2, 5))\n",
        "\n",
        "    self.gru = nn.GRU(64, 64, batch_first=False)\n",
        "\n",
        "    self.fc1 = nn.Linear(in_features=64, out_features=128)\n",
        "    self.fc2 = nn.Linear(in_features=128, out_features=output_size)\n",
        "    self.relu = nn.ReLU()\n",
        "\n",
        "  def forward(self, x):\n",
        "    x = self.c1(x)\n",
        "    x = self.c2(x)\n",
        "    x = self.c3(x)\n",
        "    x = self.c4(x)\n",
        "    x = self.c5(x)\n",
        "\n",
        "    x = x.view(x.shape[0], 64, -1)\n",
        "    x = x.permute(2, 0, 1)\n",
        "\n",
        "    x, _ = self.gru(x)\n",
        "\n",
        "    x = self.fc1(x)\n",
        "    x = self.relu(x)\n",
        "    x = self.fc2(x)\n",
        "\n",
        "    x = F.log_softmax(x, dim=-1)\n",
        "\n",
        "    return x"
      ],
      "metadata": {
        "id": "zkQ0e1PtObeO"
      },
      "execution_count": 88,
      "outputs": []
    },
    {
      "cell_type": "code",
      "source": [
        "import numpy as np\n",
        "from torch.utils.data.dataset import Dataset\n",
        "\n",
        "def get_BOW(corpus):\n",
        "  BOW = {\"<pad>\":0}\n",
        "\n",
        "  for letter in corpus:\n",
        "      if letter not in BOW.keys():\n",
        "        BOW[letter] = len(BOW.keys())\n",
        "\n",
        "  return BOW\n",
        "\n",
        "class Captcha(Dataset):\n",
        "  def __init__(self, imgpath, train=True):\n",
        "    self.corpus = string.ascii_lowercase + string.digits\n",
        "    self.BOW = get_BOW(self.corpus)\n",
        "\n",
        "    self.imgfiles = imgfiles\n",
        "\n",
        "    self.train = train\n",
        "    self.trainset = self.imgfiles[:int(len(self.imgfiles)*0.8)]\n",
        "    self.testset = self.imgfiles[int(len(self.imgfiles)*0.8):]\n",
        "\n",
        "  def get_seq(self, line):\n",
        "    label = []\n",
        "\n",
        "    print(line)\n",
        "\n",
        "    for letter in line:\n",
        "      label.append(self.BOW[letter])\n",
        "      return label\n",
        "\n",
        "  def __len__(self):\n",
        "    if self.train:\n",
        "      return len(self.imgfiles)\n",
        "    else:\n",
        "      return len(self.testset)\n",
        "\n",
        "  def __getitem__(self, idx):\n",
        "    if self.train:\n",
        "      data = Image.open(self.trainset[idx]).convert(\"RGB\")\n",
        "      label = self.trainset[idx].split(\"/\")[-1]\n",
        "      label = label.split(\".png\")[0]\n",
        "      label = self.get_seq(label)\n",
        "      data = np.array(data).astype(np.float32)\n",
        "      data = np.transpose(data, (2, 0, 1))\n",
        "      label = np.array(label)\n",
        "      return data, label\n",
        "\n",
        "    else:\n",
        "      data = Image.open(self.testset[idx]).convert(\"RGB\")\n",
        "      label = self.testset[idx].split(\"/\")[-1]\n",
        "      label = label.split(\".png\")[0]\n",
        "      label = self.get_seq(label)\n",
        "      \n",
        "      data = np.array(data).astype(np.float32)\n",
        "      label = np.array(label)\n",
        "\n",
        "      return data, label\n",
        "\n",
        "from torch.utils.data.dataloader import DataLoader\n",
        "from torch.optim.adam import Adam\n",
        "import tqdm\n",
        "\n",
        "device = \"cuda\" if torch.cuda.is_available() else \"cpu\"\n",
        "\n",
        "dataset = Captcha(imgpath)\n",
        "loader = DataLoader(dataset, batch_size=8)\n",
        "\n",
        "model = CRNN(output_size=len(dataset.BOW)).to(device)\n",
        "optim = Adam(model.parameters(), lr=0.0001)\n",
        "\n",
        "for epoch in range(200):\n",
        "  iterator = tqdm.tqdm(loader)\n",
        "\n",
        "  for data, label in iterator:\n",
        "    optim.zero_grad()\n",
        "    preds = model(data.to(device))\n",
        "\n",
        "    preds_size = torch.IntTensor([preds.size(0)] * 8).to(device)\n",
        "    target_len = torch.IntTensor([len(txt) for txt in label]).to(device)\n",
        "      \n",
        "    loss = nn.CTCLoss(blank=0)(preds, label.to(device), preds_size, target_len)\n",
        "\n",
        "    loss.backward()\n",
        "    optim.step()\n",
        "\n",
        "    iterator.set_description(f\"epoch{epoch+1} loss:{loss.item()}\")\n",
        "\n",
        "torch.save(model.state_dict(), \"CRNN.pth\")"
      ],
      "metadata": {
        "colab": {
          "base_uri": "https://localhost:8080/",
          "height": 1000
        },
        "id": "uz3kjt-tJMnK",
        "outputId": "c6eacfb9-d735-42af-9c9e-051e930118aa"
      },
      "execution_count": 129,
      "outputs": [
        {
          "output_type": "stream",
          "name": "stderr",
          "text": [
            "\r  0%|          | 0/130 [00:00<?, ?it/s]"
          ]
        },
        {
          "output_type": "stream",
          "name": "stdout",
          "text": [
            "28348\n",
            "28x47\n",
            "268g2\n",
            "264m5\n",
            "25w53\n",
            "25257\n",
            "25m6p\n",
            "25p2m\n"
          ]
        },
        {
          "output_type": "stream",
          "name": "stderr",
          "text": [
            "epoch1 loss:651.2728271484375:   1%|          | 1/130 [00:00<02:02,  1.05it/s]"
          ]
        },
        {
          "output_type": "stream",
          "name": "stdout",
          "text": [
            "25egp\n",
            "253dc\n",
            "24f6w\n",
            "24pew\n",
            "245y5\n",
            "244e2\n",
            "23n88\n",
            "23mdg\n"
          ]
        },
        {
          "output_type": "stream",
          "name": "stderr",
          "text": [
            "epoch1 loss:606.80078125:   2%|▏         | 2/130 [00:01<02:02,  1.04it/s]"
          ]
        },
        {
          "output_type": "stream",
          "name": "stdout",
          "text": [
            "2356g\n",
            "22d5n\n",
            "243mm\n",
            "226md\n",
            "2cg58\n",
            "2cgyx\n",
            "2enf4\n",
            "2g7nm\n"
          ]
        },
        {
          "output_type": "stream",
          "name": "stderr",
          "text": [
            "epoch1 loss:576.5752563476562:   2%|▏         | 3/130 [00:02<02:01,  1.04it/s]"
          ]
        },
        {
          "output_type": "stream",
          "name": "stdout",
          "text": [
            "2g783\n",
            "2en7g\n",
            "2fxgd\n",
            "2bg48\n",
            "2cegf\n",
            "2gyb6\n",
            "2b827\n",
            "36nx4\n"
          ]
        },
        {
          "output_type": "stream",
          "name": "stderr",
          "text": [
            "epoch1 loss:554.9920654296875:   3%|▎         | 4/130 [00:03<02:00,  1.05it/s]"
          ]
        },
        {
          "output_type": "stream",
          "name": "stdout",
          "text": [
            "368y5\n",
            "34pcn\n",
            "36bc2\n",
            "34fxm\n",
            "33p4e\n",
            "33n73\n",
            "34b84\n",
            "33f7m\n"
          ]
        },
        {
          "output_type": "stream",
          "name": "stderr",
          "text": [
            "epoch1 loss:537.7479858398438:   4%|▍         | 5/130 [00:04<01:59,  1.05it/s]"
          ]
        },
        {
          "output_type": "stream",
          "name": "stdout",
          "text": [
            "33ng4\n",
            "2wx73\n",
            "33b22\n",
            "325fb\n",
            "32dnn\n",
            "32cnn\n",
            "2yggg\n",
            "2ycn8\n"
          ]
        },
        {
          "output_type": "stream",
          "name": "stderr",
          "text": [
            "epoch1 loss:524.1101684570312:   5%|▍         | 6/130 [00:05<01:59,  1.04it/s]"
          ]
        },
        {
          "output_type": "stream",
          "name": "stdout",
          "text": [
            "2xc2n\n",
            "2wc38\n",
            "2x7bm\n",
            "2w4y7\n",
            "2nx38\n",
            "2pfpn\n",
            "2p2y8\n",
            "2npg6\n"
          ]
        },
        {
          "output_type": "stream",
          "name": "stderr",
          "text": [
            "epoch1 loss:518.922607421875:   5%|▌         | 7/130 [00:06<01:57,  1.04it/s]"
          ]
        },
        {
          "output_type": "stream",
          "name": "stdout",
          "text": [
            "2nf26\n",
            "2mg87\n",
            "2n73f\n",
            "2mpnn\n",
            "2nbcx\n",
            "3x325\n",
            "3xcgg\n",
            "3x5fm\n"
          ]
        },
        {
          "output_type": "stream",
          "name": "stderr",
          "text": [
            "epoch1 loss:514.2666015625:   6%|▌         | 8/130 [00:07<01:56,  1.05it/s]"
          ]
        },
        {
          "output_type": "stream",
          "name": "stdout",
          "text": [
            "3wnd3\n",
            "3ny45\n",
            "3w2bw\n",
            "3p67n\n",
            "3pe4g\n",
            "3p4nn\n",
            "3nw7w\n",
            "3nnpw\n"
          ]
        },
        {
          "output_type": "stream",
          "name": "stderr",
          "text": [
            "epoch1 loss:509.1642150878906:   7%|▋         | 9/130 [00:08<01:55,  1.05it/s]"
          ]
        },
        {
          "output_type": "stream",
          "name": "stdout",
          "text": [
            "3ndxd\n",
            "3nfdn\n",
            "377xx\n",
            "3n7mx\n",
            "3mxdn\n",
            "3n3cf\n",
            "3fbxd\n",
            "3g2w6\n"
          ]
        },
        {
          "output_type": "stream",
          "name": "stderr",
          "text": [
            "epoch1 loss:503.6763000488281:   8%|▊         | 10/130 [00:09<01:55,  1.04it/s]"
          ]
        },
        {
          "output_type": "stream",
          "name": "stdout",
          "text": [
            "3n2b4\n",
            "3eny7\n",
            "3dgmf\n",
            "3cpwb\n",
            "3bnyf\n",
            "3d7bd\n",
            "3bx86\n",
            "3bfnd\n"
          ]
        },
        {
          "output_type": "stream",
          "name": "stderr",
          "text": [
            "epoch1 loss:496.8529052734375:   8%|▊         | 11/130 [00:10<01:55,  1.03it/s]"
          ]
        },
        {
          "output_type": "stream",
          "name": "stdout",
          "text": [
            "3den6\n",
            "3ebpw\n",
            "3ebnn\n",
            "3bd8f\n",
            "38n57\n",
            "387g2\n",
            "3b4we\n",
            "37ep6\n"
          ]
        },
        {
          "output_type": "stream",
          "name": "stderr",
          "text": [
            "epoch1 loss:489.7361755371094:   9%|▉         | 12/130 [00:11<01:54,  1.03it/s]"
          ]
        },
        {
          "output_type": "stream",
          "name": "stdout",
          "text": [
            "373gb\n",
            "36w25\n",
            "37d52\n",
            "378e5\n",
            "4gb3f\n",
            "4gycb\n",
            "4fp5g\n",
            "4fc36\n"
          ]
        },
        {
          "output_type": "stream",
          "name": "stderr",
          "text": [
            "epoch1 loss:480.9535827636719:  10%|█         | 13/130 [00:12<01:53,  1.03it/s]"
          ]
        },
        {
          "output_type": "stream",
          "name": "stdout",
          "text": [
            "4f8yp\n",
            "4egem\n",
            "4exnn\n",
            "4dgf7\n",
            "4dw3w\n",
            "4d22m\n",
            "4cfw8\n",
            "4cn7b\n"
          ]
        },
        {
          "output_type": "stream",
          "name": "stderr",
          "text": [
            "epoch1 loss:472.59246826171875:  11%|█         | 14/130 [00:13<01:51,  1.04it/s]"
          ]
        },
        {
          "output_type": "stream",
          "name": "stdout",
          "text": [
            "4c8n8\n",
            "4b2pw\n",
            "488de\n",
            "478nx\n",
            "474ff\n",
            "47m2b\n",
            "47e4p\n",
            "4743p\n"
          ]
        },
        {
          "output_type": "stream",
          "name": "stderr",
          "text": [
            "epoch1 loss:465.6894836425781:  12%|█▏        | 15/130 [00:14<01:50,  1.04it/s]"
          ]
        },
        {
          "output_type": "stream",
          "name": "stdout",
          "text": [
            "467d5\n",
            "46mbm\n",
            "44ype\n",
            "44xe8\n",
            "445cc\n",
            "44fyb\n",
            "43xfe\n",
            "4433m\n"
          ]
        },
        {
          "output_type": "stream",
          "name": "stderr",
          "text": [
            "epoch1 loss:459.34942626953125:  12%|█▏        | 16/130 [00:15<01:49,  1.04it/s]"
          ]
        },
        {
          "output_type": "stream",
          "name": "stdout",
          "text": [
            "44c22\n",
            "43p5d\n",
            "43gey\n",
            "42xpy\n",
            "43mn5\n",
            "42nxy\n",
            "3ygde\n",
            "3ym7f\n"
          ]
        },
        {
          "output_type": "stream",
          "name": "stderr",
          "text": [
            "epoch1 loss:454.0429382324219:  13%|█▎        | 17/130 [00:16<01:49,  1.03it/s]"
          ]
        },
        {
          "output_type": "stream",
          "name": "stdout",
          "text": [
            "3ye2e\n",
            "42dw4\n",
            "428b6\n",
            "3xng6\n",
            "5bb66\n",
            "58pnp\n",
            "58b5m\n",
            "57b27\n"
          ]
        },
        {
          "output_type": "stream",
          "name": "stderr",
          "text": [
            "epoch1 loss:449.9502868652344:  14%|█▍        | 18/130 [00:17<01:48,  1.03it/s]"
          ]
        },
        {
          "output_type": "stream",
          "name": "stdout",
          "text": [
            "57wdp\n",
            "573bn\n",
            "573d8\n",
            "574d7\n",
            "56ncx\n",
            "57gnx\n",
            "56m6y\n",
            "56c34\n"
          ]
        },
        {
          "output_type": "stream",
          "name": "stderr",
          "text": [
            "epoch1 loss:444.9830017089844:  15%|█▍        | 19/130 [00:18<01:46,  1.04it/s]"
          ]
        },
        {
          "output_type": "stream",
          "name": "stdout",
          "text": [
            "556wd\n",
            "55y2m\n",
            "55w5c\n",
            "537nf\n",
            "53wb8\n",
            "5325m\n",
            "53wp3\n",
            "53mn8\n"
          ]
        },
        {
          "output_type": "stream",
          "name": "stderr",
          "text": [
            "epoch1 loss:441.0266418457031:  15%|█▌        | 20/130 [00:19<01:45,  1.04it/s]"
          ]
        },
        {
          "output_type": "stream",
          "name": "stdout",
          "text": [
            "52447\n",
            "4yc85\n",
            "4ycex\n",
            "4ynf3\n",
            "4w76g\n",
            "4w6mw\n",
            "4nc37\n",
            "4n3mn\n"
          ]
        },
        {
          "output_type": "stream",
          "name": "stderr",
          "text": [
            "epoch1 loss:436.4905090332031:  16%|█▌        | 21/130 [00:20<01:43,  1.05it/s]"
          ]
        },
        {
          "output_type": "stream",
          "name": "stdout",
          "text": [
            "4nnf3\n",
            "4n2yg\n",
            "4m2w5\n",
            "5wddw\n",
            "5p3mm\n",
            "5pm6b\n",
            "5p8fm\n",
            "5nxnn\n"
          ]
        },
        {
          "output_type": "stream",
          "name": "stderr",
          "text": [
            "epoch1 loss:432.51123046875:  17%|█▋        | 22/130 [00:21<01:42,  1.05it/s]"
          ]
        },
        {
          "output_type": "stream",
          "name": "stdout",
          "text": [
            "5nm6d\n",
            "5nnff\n",
            "5np4m\n",
            "5npdn\n",
            "5nggg\n",
            "5ng6e\n",
            "5n732\n",
            "5n3w4\n"
          ]
        },
        {
          "output_type": "stream",
          "name": "stderr",
          "text": [
            "epoch1 loss:428.17510986328125:  18%|█▊        | 23/130 [00:22<01:41,  1.06it/s]"
          ]
        },
        {
          "output_type": "stream",
          "name": "stdout",
          "text": [
            "5n728\n",
            "5n245\n",
            "5mf7c\n",
            "5mcy7\n",
            "5mnpd\n",
            "5mfff\n",
            "5mgn4\n",
            "5gcd3\n"
          ]
        },
        {
          "output_type": "stream",
          "name": "stderr",
          "text": [
            "epoch1 loss:423.8536071777344:  18%|█▊        | 24/130 [00:23<01:40,  1.05it/s]"
          ]
        },
        {
          "output_type": "stream",
          "name": "stdout",
          "text": [
            "5f3gf\n",
            "5g5e5\n",
            "5fyem\n",
            "5expp\n",
            "5dxnm\n",
            "5ep3n\n",
            "5bg8f\n",
            "5bgp2\n"
          ]
        },
        {
          "output_type": "stream",
          "name": "stderr",
          "text": [
            "epoch1 loss:419.355712890625:  19%|█▉        | 25/130 [00:23<01:39,  1.05it/s]"
          ]
        },
        {
          "output_type": "stream",
          "name": "stdout",
          "text": [
            "5bnd7\n",
            "6gnm3\n",
            "6g45w\n",
            "6fn84\n",
            "6ge3p\n",
            "6fgdw\n",
            "6f857\n",
            "6e6pn\n"
          ]
        },
        {
          "output_type": "stream",
          "name": "stderr",
          "text": [
            "epoch1 loss:415.2312927246094:  20%|██        | 26/130 [00:24<01:38,  1.05it/s]"
          ]
        },
        {
          "output_type": "stream",
          "name": "stdout",
          "text": [
            "6f2yc\n",
            "6fg8c\n",
            "6end3\n",
            "6ecbn\n",
            "6e2dg\n",
            "6e554\n",
            "6dmx7\n",
            "6dd2y\n"
          ]
        },
        {
          "output_type": "stream",
          "name": "stderr",
          "text": [
            "epoch1 loss:410.84912109375:  21%|██        | 27/130 [00:25<01:38,  1.05it/s]"
          ]
        },
        {
          "output_type": "stream",
          "name": "stdout",
          "text": [
            "6c3p5\n",
            "6cwxe\n",
            "6c3n6\n",
            "6bxwg\n",
            "6cm6m\n",
            "6bnnm\n",
            "6bdn5\n",
            "6b4w6\n"
          ]
        },
        {
          "output_type": "stream",
          "name": "stderr",
          "text": [
            "epoch1 loss:406.6018981933594:  22%|██▏       | 28/130 [00:26<01:37,  1.04it/s]"
          ]
        },
        {
          "output_type": "stream",
          "name": "stdout",
          "text": [
            "6b46g\n",
            "68x48\n",
            "6825y\n",
            "677g3\n",
            "68wfd\n",
            "678w3\n",
            "67dey\n",
            "675p3\n"
          ]
        },
        {
          "output_type": "stream",
          "name": "stderr",
          "text": [
            "epoch1 loss:402.61181640625:  22%|██▏       | 29/130 [00:27<01:36,  1.05it/s]"
          ]
        },
        {
          "output_type": "stream",
          "name": "stdout",
          "text": [
            "664dn\n",
            "664nf\n",
            "66wp5\n",
            "662bw\n",
            "62nb3\n",
            "63824\n",
            "63pxe\n",
            "646x8\n"
          ]
        },
        {
          "output_type": "stream",
          "name": "stderr",
          "text": [
            "epoch1 loss:398.33349609375:  23%|██▎       | 30/130 [00:28<01:35,  1.05it/s]"
          ]
        },
        {
          "output_type": "stream",
          "name": "stdout",
          "text": [
            "65ebm\n",
            "658xe\n",
            "65m85\n",
            "64b3p\n",
            "64m82\n",
            "5yxgp\n",
            "5x7x5\n",
            "5ywwf\n"
          ]
        },
        {
          "output_type": "stream",
          "name": "stderr",
          "text": [
            "epoch1 loss:393.853515625:  24%|██▍       | 31/130 [00:29<01:39,  1.01s/it]"
          ]
        },
        {
          "output_type": "stream",
          "name": "stdout",
          "text": [
            "5xd2e\n",
            "5x5nx\n",
            "5xwcg\n",
            "7b4bm\n",
            "7bb7b\n",
            "7bwm2\n",
            "78eec\n",
            "785n4\n"
          ]
        },
        {
          "output_type": "stream",
          "name": "stderr",
          "text": [
            "epoch1 loss:389.1854248046875:  25%|██▍       | 32/130 [00:31<01:42,  1.04s/it]"
          ]
        },
        {
          "output_type": "stream",
          "name": "stdout",
          "text": [
            "77n6g\n",
            "77wp4\n",
            "77387\n",
            "76y6f\n",
            "76nxn\n",
            "76353\n",
            "7634y\n",
            "76n7p\n"
          ]
        },
        {
          "output_type": "stream",
          "name": "stderr",
          "text": [
            "epoch1 loss:384.6911926269531:  25%|██▌       | 33/130 [00:31<01:37,  1.01s/it]"
          ]
        },
        {
          "output_type": "stream",
          "name": "stdout",
          "text": [
            "75pfw\n",
            "73mnx\n",
            "72m6f\n",
            "728n8\n",
            "74eyg\n",
            "74853\n",
            "6ydyp\n",
            "6xen4\n"
          ]
        },
        {
          "output_type": "stream",
          "name": "stderr",
          "text": [
            "epoch1 loss:380.42364501953125:  26%|██▌       | 34/130 [00:32<01:35,  1.01it/s]"
          ]
        },
        {
          "output_type": "stream",
          "name": "stdout",
          "text": [
            "6xpme\n",
            "6xxdx\n",
            "6wnyc\n",
            "6pfy4\n",
            "6wb76\n",
            "6p7gx\n",
            "6pwcn\n",
            "6wg4n\n"
          ]
        },
        {
          "output_type": "stream",
          "name": "stderr",
          "text": [
            "epoch1 loss:376.2882385253906:  27%|██▋       | 35/130 [00:33<01:33,  1.02it/s]"
          ]
        },
        {
          "output_type": "stream",
          "name": "stdout",
          "text": [
            "6p2ge\n",
            "6n5fd\n",
            "6ng6w\n",
            "6n6gg\n",
            "6ng6n\n",
            "6mygb\n",
            "6mn8n\n",
            "6n443\n"
          ]
        },
        {
          "output_type": "stream",
          "name": "stderr",
          "text": [
            "epoch1 loss:371.8375244140625:  28%|██▊       | 36/130 [00:35<01:54,  1.21s/it]"
          ]
        },
        {
          "output_type": "stream",
          "name": "stdout",
          "text": [
            "6m5eg\n",
            "6mege\n",
            "823p2\n",
            "7yf62\n",
            "7xd5m\n",
            "7y2x4\n",
            "7xcyd\n",
            "7pn5g\n"
          ]
        },
        {
          "output_type": "stream",
          "name": "stderr",
          "text": [
            "epoch1 loss:367.0093078613281:  28%|██▊       | 37/130 [00:36<01:45,  1.13s/it]"
          ]
        },
        {
          "output_type": "stream",
          "name": "stdout",
          "text": [
            "7wn74\n",
            "7w67m\n",
            "7wnpm\n",
            "7wyp4\n",
            "7pcd7\n",
            "7mgmf\n",
            "7p852\n",
            "7nnnx\n"
          ]
        },
        {
          "output_type": "stream",
          "name": "stderr",
          "text": [
            "epoch1 loss:362.173095703125:  29%|██▉       | 38/130 [00:37<01:39,  1.09s/it]"
          ]
        },
        {
          "output_type": "stream",
          "name": "stdout",
          "text": [
            "7m8px\n",
            "7gp47\n",
            "7gnge\n",
            "7g3nf\n",
            "7gce6\n",
            "7gmf3\n",
            "7fmcy\n",
            "7f8b3\n"
          ]
        },
        {
          "output_type": "stream",
          "name": "stderr",
          "text": [
            "epoch1 loss:357.62896728515625:  30%|███       | 39/130 [00:38<01:35,  1.05s/it]"
          ]
        },
        {
          "output_type": "stream",
          "name": "stdout",
          "text": [
            "7fde7\n",
            "7e2y7\n",
            "7dyww\n",
            "7cgym\n",
            "7dxbd\n",
            "7dgc2\n",
            "7dwx4\n",
            "7d44m\n"
          ]
        },
        {
          "output_type": "stream",
          "name": "stderr",
          "text": [
            "epoch1 loss:353.0876159667969:  31%|███       | 40/130 [00:39<01:31,  1.02s/it]"
          ]
        },
        {
          "output_type": "stream",
          "name": "stdout",
          "text": [
            "7cdge\n",
            "8ne4g\n",
            "8n4n8\n",
            "8n65n\n",
            "8nbew\n",
            "8n5pn\n",
            "8n62n\n",
            "8n5p3\n"
          ]
        },
        {
          "output_type": "stream",
          "name": "stderr",
          "text": [
            "epoch1 loss:349.3426513671875:  32%|███▏      | 41/130 [00:40<01:33,  1.05s/it]"
          ]
        },
        {
          "output_type": "stream",
          "name": "stdout",
          "text": [
            "8n34n\n",
            "8n2pg\n",
            "8n56m\n",
            "8gmnx\n",
            "8gmc4\n",
            "8gecm\n",
            "8gf7n\n",
            "8g4yp\n"
          ]
        },
        {
          "output_type": "stream",
          "name": "stderr",
          "text": [
            "epoch1 loss:344.9757385253906:  32%|███▏      | 42/130 [00:42<01:43,  1.18s/it]"
          ]
        },
        {
          "output_type": "stream",
          "name": "stdout",
          "text": [
            "8d8ep\n",
            "8e32m\n",
            "8fexn\n",
            "8db67\n",
            "8eggg\n",
            "8d4wm\n",
            "8cm46\n",
            "8cccc\n"
          ]
        },
        {
          "output_type": "stream",
          "name": "stderr",
          "text": [
            "epoch1 loss:340.5269470214844:  33%|███▎      | 43/130 [00:43<01:50,  1.27s/it]"
          ]
        },
        {
          "output_type": "stream",
          "name": "stdout",
          "text": [
            "8d2nd\n",
            "8c2wy\n",
            "88y52\n",
            "8c23f\n",
            "8b735\n",
            "8bbw8\n",
            "8bbm4\n",
            "88bgx\n"
          ]
        },
        {
          "output_type": "stream",
          "name": "stderr",
          "text": [
            "epoch1 loss:336.0630798339844:  34%|███▍      | 44/130 [00:45<01:55,  1.34s/it]"
          ]
        },
        {
          "output_type": "stream",
          "name": "stdout",
          "text": [
            "87nym\n",
            "87d4c\n",
            "8684m\n",
            "865wm\n",
            "832f3\n",
            "82fx2\n",
            "85622\n",
            "85dxn\n"
          ]
        },
        {
          "output_type": "stream",
          "name": "stderr",
          "text": [
            "epoch1 loss:331.7720947265625:  35%|███▍      | 45/130 [00:46<01:57,  1.38s/it]"
          ]
        },
        {
          "output_type": "stream",
          "name": "stdout",
          "text": [
            "84w7x\n",
            "b84xc\n",
            "b6f2p\n",
            "b5pnn\n",
            "b685n\n",
            "b5nmm\n",
            "b55d6\n",
            "b4y5x\n"
          ]
        },
        {
          "output_type": "stream",
          "name": "stderr",
          "text": [
            "epoch1 loss:327.24627685546875:  35%|███▌      | 46/130 [00:47<01:58,  1.41s/it]"
          ]
        },
        {
          "output_type": "stream",
          "name": "stdout",
          "text": [
            "b4ncn\n",
            "b5dn4\n",
            "b5fm7\n",
            "b4d7c\n",
            "b35f6\n",
            "b3xpn\n",
            "b43nw\n",
            "b2nen\n"
          ]
        },
        {
          "output_type": "stream",
          "name": "stderr",
          "text": [
            "epoch1 loss:322.9322204589844:  36%|███▌      | 47/130 [00:49<01:58,  1.42s/it]"
          ]
        },
        {
          "output_type": "stream",
          "name": "stdout",
          "text": [
            "b26nd\n",
            "8ypdn\n",
            "b2g8e\n",
            "b28g8\n",
            "8y6b3\n",
            "8y63f\n",
            "8xef7\n",
            "8wy7d\n"
          ]
        },
        {
          "output_type": "stream",
          "name": "stderr",
          "text": [
            "epoch1 loss:318.7227783203125:  37%|███▋      | 48/130 [00:50<01:54,  1.39s/it]"
          ]
        },
        {
          "output_type": "stream",
          "name": "stdout",
          "text": [
            "8w875\n",
            "8w754\n",
            "8pfxx\n",
            "8npd5\n",
            "8np22\n",
            "8nn73\n",
            "8npe3\n",
            "c353e\n"
          ]
        },
        {
          "output_type": "stream",
          "name": "stderr",
          "text": [
            "epoch1 loss:314.31072998046875:  38%|███▊      | 49/130 [00:51<01:41,  1.26s/it]"
          ]
        },
        {
          "output_type": "stream",
          "name": "stdout",
          "text": [
            "c3572\n",
            "c3n8x\n",
            "c2yn8\n",
            "c2pg6\n",
            "byfgn\n",
            "c2g4d\n",
            "byc82\n",
            "c2fb7\n"
          ]
        },
        {
          "output_type": "stream",
          "name": "stderr",
          "text": [
            "epoch1 loss:309.59527587890625:  38%|███▊      | 50/130 [00:52<01:33,  1.16s/it]"
          ]
        },
        {
          "output_type": "stream",
          "name": "stdout",
          "text": [
            "by5y3\n",
            "bxxfc\n",
            "bw6n6\n",
            "bwmee\n",
            "bw5ym\n",
            "bw44w\n",
            "bp6mw\n",
            "bw5nf\n"
          ]
        },
        {
          "output_type": "stream",
          "name": "stderr",
          "text": [
            "epoch1 loss:305.40228271484375:  39%|███▉      | 51/130 [00:53<01:26,  1.10s/it]"
          ]
        },
        {
          "output_type": "stream",
          "name": "stdout",
          "text": [
            "bpwd7\n",
            "bp2d4\n",
            "bny4w\n",
            "bnc5f\n",
            "bny23\n",
            "bnc2f\n",
            "bn5mw\n",
            "bgb48\n"
          ]
        },
        {
          "output_type": "stream",
          "name": "stderr",
          "text": [
            "epoch1 loss:301.05926513671875:  40%|████      | 52/130 [00:54<01:22,  1.06s/it]"
          ]
        },
        {
          "output_type": "stream",
          "name": "stdout",
          "text": [
            "bgem5\n",
            "bmxpe\n",
            "bgd4m\n",
            "bm3p8\n",
            "bf52c\n",
            "be3bp\n",
            "befbd\n",
            "be6np\n"
          ]
        },
        {
          "output_type": "stream",
          "name": "stderr",
          "text": [
            "epoch1 loss:296.81878662109375:  41%|████      | 53/130 [00:55<01:19,  1.03s/it]"
          ]
        },
        {
          "output_type": "stream",
          "name": "stdout",
          "text": [
            "bdg84\n",
            "bbymy\n",
            "bcwnn\n",
            "bdbb3\n",
            "bc8nf\n",
            "bd3b7\n",
            "cm6yb\n",
            "cnex4\n"
          ]
        },
        {
          "output_type": "stream",
          "name": "stderr",
          "text": [
            "epoch1 loss:292.50439453125:  42%|████▏     | 54/130 [00:56<01:16,  1.01s/it]"
          ]
        },
        {
          "output_type": "stream",
          "name": "stdout",
          "text": [
            "cnmnn\n",
            "cgcgb\n",
            "cfp86\n",
            "cg5dd\n",
            "cffp4\n",
            "cfn53\n",
            "cfw6e\n",
            "cfc56\n"
          ]
        },
        {
          "output_type": "stream",
          "name": "stderr",
          "text": [
            "epoch1 loss:287.9536437988281:  42%|████▏     | 55/130 [00:57<01:14,  1.01it/s]"
          ]
        },
        {
          "output_type": "stream",
          "name": "stdout",
          "text": [
            "cewnm\n",
            "cen55\n",
            "cfc2y\n",
            "cdmn8\n",
            "cdfen\n",
            "cd4eg\n",
            "cdf77\n",
            "cd6p4\n"
          ]
        },
        {
          "output_type": "stream",
          "name": "stderr",
          "text": [
            "epoch1 loss:283.6973571777344:  43%|████▎     | 56/130 [00:58<01:13,  1.01it/s]"
          ]
        },
        {
          "output_type": "stream",
          "name": "stdout",
          "text": [
            "cdcb3\n",
            "ccn2x\n",
            "ccf2w\n",
            "cc845\n",
            "cb8cf\n",
            "c8n8c\n",
            "c7gb3\n",
            "c8fxy\n"
          ]
        },
        {
          "output_type": "stream",
          "name": "stderr",
          "text": [
            "epoch1 loss:279.40179443359375:  44%|████▍     | 57/130 [00:59<01:12,  1.01it/s]"
          ]
        },
        {
          "output_type": "stream",
          "name": "stdout",
          "text": [
            "c753e\n",
            "c7nn8\n",
            "c86md\n",
            "c6we6\n",
            "c5xne\n",
            "c6745\n",
            "c6f8g\n",
            "c55c6\n"
          ]
        },
        {
          "output_type": "stream",
          "name": "stderr",
          "text": [
            "epoch1 loss:275.21612548828125:  45%|████▍     | 58/130 [01:00<01:10,  1.03it/s]"
          ]
        },
        {
          "output_type": "stream",
          "name": "stdout",
          "text": [
            "c482b\n",
            "c4bgd\n",
            "c4527\n",
            "c4mcm\n",
            "c4bny\n",
            "c43b4\n",
            "d7en3\n",
            "d75b5\n"
          ]
        },
        {
          "output_type": "stream",
          "name": "stderr",
          "text": [
            "epoch1 loss:271.1249084472656:  45%|████▌     | 59/130 [01:01<01:08,  1.04it/s]"
          ]
        },
        {
          "output_type": "stream",
          "name": "stdout",
          "text": [
            "d66cn\n",
            "d7c5x\n",
            "d6fcn\n",
            "d666m\n",
            "d4ppy\n",
            "d3ycn\n",
            "d4n82\n",
            "d3c8y\n"
          ]
        },
        {
          "output_type": "stream",
          "name": "stderr",
          "text": [
            "epoch1 loss:267.1363220214844:  46%|████▌     | 60/130 [01:02<01:06,  1.04it/s]"
          ]
        },
        {
          "output_type": "stream",
          "name": "stdout",
          "text": [
            "d236n\n",
            "d2nbn\n",
            "d2ycw\n",
            "d3c7y\n",
            "d378n\n",
            "d22y5\n",
            "d22n7\n",
            "cy3nw\n"
          ]
        },
        {
          "output_type": "stream",
          "name": "stderr",
          "text": [
            "epoch1 loss:262.94415283203125:  47%|████▋     | 61/130 [01:03<01:05,  1.05it/s]"
          ]
        },
        {
          "output_type": "stream",
          "name": "stdout",
          "text": [
            "d22bd\n",
            "cx3wg\n",
            "cwgyx\n",
            "cpc8c\n",
            "cwdnx\n",
            "cpe63\n",
            "cwmny\n",
            "cnwyc\n"
          ]
        },
        {
          "output_type": "stream",
          "name": "stderr",
          "text": [
            "epoch1 loss:258.6529235839844:  48%|████▊     | 62/130 [01:04<01:04,  1.05it/s]"
          ]
        },
        {
          "output_type": "stream",
          "name": "stdout",
          "text": [
            "e25xg\n",
            "dxwcw\n",
            "dyp7n\n",
            "dw8d3\n",
            "dy3cx\n",
            "dyxnc\n",
            "dw6mn\n",
            "dnxdp\n"
          ]
        },
        {
          "output_type": "stream",
          "name": "stderr",
          "text": [
            "epoch1 loss:254.64459228515625:  48%|████▊     | 63/130 [01:05<01:03,  1.06it/s]"
          ]
        },
        {
          "output_type": "stream",
          "name": "stdout",
          "text": [
            "dw3nn\n",
            "dpbyd\n",
            "dnne7\n",
            "dn5df\n",
            "dn26n\n",
            "dnmd8\n",
            "dn2ym\n",
            "dmxp8\n"
          ]
        },
        {
          "output_type": "stream",
          "name": "stderr",
          "text": [
            "epoch1 loss:250.6265106201172:  49%|████▉     | 64/130 [01:05<01:02,  1.06it/s]"
          ]
        },
        {
          "output_type": "stream",
          "name": "stdout",
          "text": [
            "dmx8p\n",
            "deneb\n",
            "dmw8n\n",
            "dfnx4\n",
            "defyx\n",
            "ddpyb\n",
            "de7f8\n",
            "de45x\n"
          ]
        },
        {
          "output_type": "stream",
          "name": "stderr",
          "text": [
            "epoch1 loss:246.62518310546875:  50%|█████     | 65/130 [01:06<01:01,  1.06it/s]"
          ]
        },
        {
          "output_type": "stream",
          "name": "stdout",
          "text": [
            "deep5\n",
            "ddnpf\n",
            "ddmyg\n",
            "ddcdd\n",
            "ddcne\n",
            "dd764\n",
            "dbex3\n",
            "d8xcn\n"
          ]
        },
        {
          "output_type": "stream",
          "name": "stderr",
          "text": [
            "epoch1 loss:242.5117645263672:  51%|█████     | 66/130 [01:07<01:00,  1.05it/s]"
          ]
        },
        {
          "output_type": "stream",
          "name": "stdout",
          "text": [
            "d8dce\n",
            "d7nn3\n",
            "dbfen\n",
            "dd5w5\n",
            "dbpcd\n",
            "dc436\n",
            "dce8y\n",
            "dbny3\n"
          ]
        },
        {
          "output_type": "stream",
          "name": "stderr",
          "text": [
            "epoch1 loss:238.4815673828125:  52%|█████▏    | 67/130 [01:08<01:00,  1.04it/s]"
          ]
        },
        {
          "output_type": "stream",
          "name": "stdout",
          "text": [
            "dcnp8\n",
            "emwpn\n",
            "efgx5\n",
            "efx34\n",
            "egxmp\n",
            "efe62\n",
            "ef4np\n",
            "efg72\n"
          ]
        },
        {
          "output_type": "stream",
          "name": "stderr",
          "text": [
            "epoch1 loss:234.3795623779297:  52%|█████▏    | 68/130 [01:09<00:59,  1.04it/s]"
          ]
        },
        {
          "output_type": "stream",
          "name": "stdout",
          "text": [
            "ef4mn\n",
            "efb3f\n",
            "ee8fg\n",
            "een23\n",
            "edg3p\n",
            "edwny\n",
            "ecd4w\n",
            "ec6pm\n"
          ]
        },
        {
          "output_type": "stream",
          "name": "stderr",
          "text": [
            "epoch1 loss:230.40101623535156:  53%|█████▎    | 69/130 [01:10<00:58,  1.04it/s]"
          ]
        },
        {
          "output_type": "stream",
          "name": "stdout",
          "text": [
            "e8dxn\n",
            "e84n2\n",
            "ebcbx\n",
            "e7x45\n",
            "e8e5e\n",
            "e7nx4\n",
            "e72cd\n",
            "e6m6p\n"
          ]
        },
        {
          "output_type": "stream",
          "name": "stderr",
          "text": [
            "epoch1 loss:226.42869567871094:  54%|█████▍    | 70/130 [01:11<00:58,  1.03it/s]"
          ]
        },
        {
          "output_type": "stream",
          "name": "stdout",
          "text": [
            "e76n4\n",
            "e6b7y\n",
            "e667x\n",
            "e5n66\n",
            "e46yw\n",
            "e46pd\n",
            "e4gd7\n",
            "e43ym\n"
          ]
        },
        {
          "output_type": "stream",
          "name": "stderr",
          "text": [
            "epoch1 loss:222.52523803710938:  55%|█████▍    | 71/130 [01:12<00:57,  1.03it/s]"
          ]
        },
        {
          "output_type": "stream",
          "name": "stdout",
          "text": [
            "e2d66\n",
            "e3ndn\n",
            "e2mg2\n",
            "f858x\n",
            "f83pn\n",
            "f7cey\n",
            "f75cx\n",
            "f753f\n"
          ]
        },
        {
          "output_type": "stream",
          "name": "stderr",
          "text": [
            "epoch1 loss:218.43527221679688:  55%|█████▌    | 72/130 [01:13<00:56,  1.02it/s]"
          ]
        },
        {
          "output_type": "stream",
          "name": "stdout",
          "text": [
            "f5cm2\n",
            "f6ww8\n",
            "f74x3\n",
            "f5e5e\n",
            "f6ne5\n",
            "f4wfn\n",
            "f35xp\n",
            "f4fn2\n"
          ]
        },
        {
          "output_type": "stream",
          "name": "stderr",
          "text": [
            "epoch1 loss:214.45620727539062:  56%|█████▌    | 73/130 [01:14<00:55,  1.03it/s]"
          ]
        },
        {
          "output_type": "stream",
          "name": "stdout",
          "text": [
            "f364x\n",
            "f2m8n\n",
            "f228n\n",
            "f22bn\n",
            "f2fge\n",
            "exycn\n",
            "excmn\n",
            "ewnx8\n"
          ]
        },
        {
          "output_type": "stream",
          "name": "stderr",
          "text": [
            "epoch1 loss:210.73817443847656:  57%|█████▋    | 74/130 [01:15<00:54,  1.03it/s]"
          ]
        },
        {
          "output_type": "stream",
          "name": "stdout",
          "text": [
            "ewcf5\n",
            "ep85x\n",
            "eppg3\n",
            "ennmm\n",
            "en32e\n",
            "eng53\n",
            "enn7n\n",
            "en4n4\n"
          ]
        },
        {
          "output_type": "stream",
          "name": "stderr",
          "text": [
            "epoch1 loss:207.203857421875:  58%|█████▊    | 75/130 [01:16<00:53,  1.03it/s]"
          ]
        },
        {
          "output_type": "stream",
          "name": "stdout",
          "text": [
            "enpw2\n",
            "gc2wd\n",
            "gc277\n",
            "gbxyy\n",
            "g888x\n",
            "g842c\n",
            "g8gnd\n",
            "g7wxw\n"
          ]
        },
        {
          "output_type": "stream",
          "name": "stderr",
          "text": [
            "epoch1 loss:203.9293670654297:  58%|█████▊    | 76/130 [01:17<00:51,  1.04it/s]"
          ]
        },
        {
          "output_type": "stream",
          "name": "stdout",
          "text": [
            "g7gnf\n",
            "g7fmc\n",
            "g78gn\n",
            "g6n7x\n",
            "g2577\n",
            "g3ex3\n",
            "g3dy6\n",
            "g2fnw\n"
          ]
        },
        {
          "output_type": "stream",
          "name": "stderr",
          "text": [
            "epoch1 loss:200.22073364257812:  59%|█████▉    | 77/130 [01:18<00:50,  1.04it/s]"
          ]
        },
        {
          "output_type": "stream",
          "name": "stdout",
          "text": [
            "g55b4\n",
            "g247w\n",
            "fywb8\n",
            "fyfbn\n",
            "fxpw3\n",
            "fy2nd\n",
            "fpw76\n",
            "fw3b2\n"
          ]
        },
        {
          "output_type": "stream",
          "name": "stderr",
          "text": [
            "epoch1 loss:195.9026641845703:  60%|██████    | 78/130 [01:19<00:49,  1.05it/s]"
          ]
        },
        {
          "output_type": "stream",
          "name": "stdout",
          "text": [
            "fwxdp\n",
            "fp762\n",
            "fp5wn\n",
            "fp3wy\n",
            "fnbfw\n",
            "fncnb\n",
            "fp382\n",
            "fg8n4\n"
          ]
        },
        {
          "output_type": "stream",
          "name": "stderr",
          "text": [
            "epoch1 loss:191.9840545654297:  61%|██████    | 79/130 [01:20<00:48,  1.05it/s]"
          ]
        },
        {
          "output_type": "stream",
          "name": "stdout",
          "text": [
            "fg38b\n",
            "ffpxf\n",
            "fg7mg\n",
            "ffnxn\n",
            "ffd6p\n",
            "feyc8\n",
            "fcne6\n",
            "fcmem\n"
          ]
        },
        {
          "output_type": "stream",
          "name": "stderr",
          "text": [
            "epoch1 loss:188.36337280273438:  62%|██████▏   | 80/130 [01:21<00:47,  1.05it/s]"
          ]
        },
        {
          "output_type": "stream",
          "name": "stdout",
          "text": [
            "fdpgd\n",
            "fcey3\n",
            "fc2ff\n",
            "fc6xb\n",
            "fbp2c\n",
            "f85y3\n",
            "f8f8g\n",
            "gxx2p\n"
          ]
        },
        {
          "output_type": "stream",
          "name": "stderr",
          "text": [
            "epoch1 loss:184.89552307128906:  62%|██████▏   | 81/130 [01:22<00:46,  1.05it/s]"
          ]
        },
        {
          "output_type": "stream",
          "name": "stdout",
          "text": [
            "gwnm6\n",
            "gwn53\n",
            "gw53m\n",
            "gw468\n",
            "gny6b\n",
            "gpnxn\n",
            "gpxng\n",
            "gp22x\n"
          ]
        },
        {
          "output_type": "stream",
          "name": "stderr",
          "text": [
            "epoch1 loss:182.20484924316406:  63%|██████▎   | 82/130 [01:23<00:45,  1.06it/s]"
          ]
        },
        {
          "output_type": "stream",
          "name": "stdout",
          "text": [
            "gp7c5\n",
            "gng6e\n",
            "gnbn4\n",
            "gnf85\n",
            "gnc3n\n",
            "gnbde\n",
            "gm6nn\n",
            "gm7n8\n"
          ]
        },
        {
          "output_type": "stream",
          "name": "stderr",
          "text": [
            "epoch1 loss:178.6852569580078:  64%|██████▍   | 83/130 [01:24<00:44,  1.05it/s]"
          ]
        },
        {
          "output_type": "stream",
          "name": "stdout",
          "text": [
            "gm2c2\n",
            "gn2xy\n",
            "gn2d3\n",
            "ggd7m\n",
            "gfp54\n",
            "gfbx6\n",
            "gfxcc\n",
            "gf2g4\n"
          ]
        },
        {
          "output_type": "stream",
          "name": "stderr",
          "text": [
            "epoch1 loss:175.21255493164062:  65%|██████▍   | 84/130 [01:25<00:43,  1.05it/s]"
          ]
        },
        {
          "output_type": "stream",
          "name": "stdout",
          "text": [
            "gecmf\n",
            "gdng3\n",
            "gegw4\n",
            "gd8fb\n",
            "gewfy\n",
            "gd4mf\n",
            "gc83b\n",
            "gcfgp\n"
          ]
        },
        {
          "output_type": "stream",
          "name": "stderr",
          "text": [
            "epoch1 loss:171.79867553710938:  65%|██████▌   | 85/130 [01:26<00:43,  1.05it/s]"
          ]
        },
        {
          "output_type": "stream",
          "name": "stdout",
          "text": [
            "gcx6f\n",
            "men4f\n",
            "mfc35\n",
            "mfb3x\n",
            "mdyp7\n",
            "md344\n",
            "mdxpn\n",
            "mcyfx\n"
          ]
        },
        {
          "output_type": "stream",
          "name": "stderr",
          "text": [
            "epoch1 loss:167.65875244140625:  66%|██████▌   | 86/130 [01:27<00:41,  1.05it/s]"
          ]
        },
        {
          "output_type": "stream",
          "name": "stdout",
          "text": [
            "mcg43\n",
            "mddgb\n",
            "mcc2x\n",
            "m74dm\n",
            "m75bf\n",
            "m8gmx\n",
            "mb4en\n",
            "m8m4x\n"
          ]
        },
        {
          "output_type": "stream",
          "name": "stderr",
          "text": [
            "epoch1 loss:164.2038116455078:  67%|██████▋   | 87/130 [01:28<00:41,  1.05it/s]"
          ]
        },
        {
          "output_type": "stream",
          "name": "stdout",
          "text": [
            "mc35n\n",
            "mbp2y\n",
            "mc8w2\n",
            "mbf58\n",
            "m6n4x\n",
            "m67b3\n",
            "m5ym2\n",
            "m5meg\n"
          ]
        },
        {
          "output_type": "stream",
          "name": "stderr",
          "text": [
            "epoch1 loss:160.90589904785156:  68%|██████▊   | 88/130 [01:29<00:40,  1.04it/s]"
          ]
        },
        {
          "output_type": "stream",
          "name": "stdout",
          "text": [
            "m4g8g\n",
            "m3wfw\n",
            "m3b5p\n",
            "m4fd8\n",
            "m448b\n",
            "m457d\n",
            "m3588\n",
            "m2576\n"
          ]
        },
        {
          "output_type": "stream",
          "name": "stderr",
          "text": [
            "epoch1 loss:157.6466064453125:  68%|██████▊   | 89/130 [01:30<00:39,  1.04it/s]"
          ]
        },
        {
          "output_type": "stream",
          "name": "stdout",
          "text": [
            "m23bp\n",
            "m2nf4\n",
            "m22e3\n",
            "gymmn\n",
            "gy5bf\n",
            "gy8xb\n",
            "gxxpf\n",
            "gy433\n"
          ]
        },
        {
          "output_type": "stream",
          "name": "stderr",
          "text": [
            "epoch1 loss:154.97193908691406:  69%|██████▉   | 90/130 [01:30<00:38,  1.05it/s]"
          ]
        },
        {
          "output_type": "stream",
          "name": "stdout",
          "text": [
            "n4b4m\n",
            "n464c\n",
            "n4cpy\n",
            "n3x4c\n",
            "n3m6x\n",
            "n3ffn\n",
            "n3bm6\n",
            "n336e\n"
          ]
        },
        {
          "output_type": "stream",
          "name": "stderr",
          "text": [
            "epoch1 loss:150.80844116210938:  70%|███████   | 91/130 [01:31<00:37,  1.05it/s]"
          ]
        },
        {
          "output_type": "stream",
          "name": "stdout",
          "text": [
            "n373n\n",
            "n2gmg\n",
            "n2by7\n",
            "myf82\n",
            "n265y\n",
            "my84e\n",
            "mye68\n",
            "myc3c\n"
          ]
        },
        {
          "output_type": "stream",
          "name": "stderr",
          "text": [
            "epoch1 loss:147.8367462158203:  71%|███████   | 92/130 [01:32<00:36,  1.05it/s]"
          ]
        },
        {
          "output_type": "stream",
          "name": "stdout",
          "text": [
            "mxyxw\n",
            "mxnw4\n",
            "mx8bb\n",
            "mwxwp\n",
            "mwdf6\n",
            "mnef5\n",
            "mp7wp\n",
            "mpxfb\n"
          ]
        },
        {
          "output_type": "stream",
          "name": "stderr",
          "text": [
            "epoch1 loss:144.915771484375:  72%|███████▏  | 93/130 [01:33<00:35,  1.05it/s]"
          ]
        },
        {
          "output_type": "stream",
          "name": "stdout",
          "text": [
            "mpmy5\n",
            "mw5p2\n",
            "mn5c4\n",
            "mmy5n\n",
            "mmg38\n",
            "mmg2m\n",
            "mmfm6\n",
            "mggce\n"
          ]
        },
        {
          "output_type": "stream",
          "name": "stderr",
          "text": [
            "epoch1 loss:141.81019592285156:  72%|███████▏  | 94/130 [01:34<00:34,  1.05it/s]"
          ]
        },
        {
          "output_type": "stream",
          "name": "stdout",
          "text": [
            "mm3nn\n",
            "mgdwb\n",
            "mgw3n\n",
            "mmc5n\n",
            "mg5nn\n",
            "nd5wg\n",
            "ncw4g\n",
            "ncyx8\n"
          ]
        },
        {
          "output_type": "stream",
          "name": "stderr",
          "text": [
            "epoch1 loss:138.59661865234375:  73%|███████▎  | 95/130 [01:35<00:33,  1.05it/s]"
          ]
        },
        {
          "output_type": "stream",
          "name": "stdout",
          "text": [
            "ncww7\n",
            "ncfgb\n",
            "nc4yg\n",
            "nbwnn\n",
            "nbwpn\n",
            "nbp3e\n",
            "nbmx7\n",
            "nbfx5\n"
          ]
        },
        {
          "output_type": "stream",
          "name": "stderr",
          "text": [
            "epoch1 loss:135.29751586914062:  74%|███████▍  | 96/130 [01:36<00:32,  1.05it/s]"
          ]
        },
        {
          "output_type": "stream",
          "name": "stdout",
          "text": [
            "nbcgb\n",
            "nbf8m\n",
            "nb45d\n",
            "n7ff2\n",
            "nb267\n",
            "n8pfe\n",
            "n8fp6\n",
            "n7g4f\n"
          ]
        },
        {
          "output_type": "stream",
          "name": "stderr",
          "text": [
            "epoch1 loss:132.31016540527344:  75%|███████▍  | 97/130 [01:37<00:31,  1.06it/s]"
          ]
        },
        {
          "output_type": "stream",
          "name": "stdout",
          "text": [
            "n8ydd\n",
            "n7meb\n",
            "n7dyb\n",
            "n7ebx\n",
            "n7enn\n",
            "n6xc5\n",
            "n5wbg\n",
            "n6f4b\n"
          ]
        },
        {
          "output_type": "stream",
          "name": "stderr",
          "text": [
            "epoch1 loss:129.37576293945312:  75%|███████▌  | 98/130 [01:38<00:30,  1.06it/s]"
          ]
        },
        {
          "output_type": "stream",
          "name": "stdout",
          "text": [
            "n5x2n\n",
            "n5w5g\n",
            "n6nn2\n",
            "n5cm7\n",
            "n5n8b\n",
            "n4xx5\n",
            "n4wwn\n",
            "npxb7\n"
          ]
        },
        {
          "output_type": "stream",
          "name": "stderr",
          "text": [
            "epoch1 loss:126.50004577636719:  76%|███████▌  | 99/130 [01:39<00:29,  1.04it/s]"
          ]
        },
        {
          "output_type": "stream",
          "name": "stdout",
          "text": [
            "nny5e\n",
            "nnp4e\n",
            "nnn5p\n",
            "nnn57\n",
            "nngxc\n",
            "nm248\n",
            "nnf8b\n",
            "nnfx3\n"
          ]
        },
        {
          "output_type": "stream",
          "name": "stderr",
          "text": [
            "epoch1 loss:123.67096710205078:  77%|███████▋  | 100/130 [01:40<00:29,  1.03it/s]"
          ]
        },
        {
          "output_type": "stream",
          "name": "stdout",
          "text": [
            "nn6mg\n",
            "nn4wx\n",
            "nmw46\n",
            "nmy2x\n",
            "ngn26\n",
            "nm46n\n",
            "ng756\n",
            "ng2gw\n"
          ]
        },
        {
          "output_type": "stream",
          "name": "stderr",
          "text": [
            "epoch1 loss:120.896240234375:  78%|███████▊  | 101/130 [01:41<00:28,  1.03it/s]"
          ]
        },
        {
          "output_type": "stream",
          "name": "stdout",
          "text": [
            "ng46m\n",
            "ng6yp\n",
            "nfndw\n",
            "nfcb5\n",
            "nfg23\n",
            "nfd8g\n",
            "nfbg8\n",
            "nfcwy\n"
          ]
        },
        {
          "output_type": "stream",
          "name": "stderr",
          "text": [
            "epoch1 loss:118.17108917236328:  78%|███████▊  | 102/130 [01:42<00:27,  1.04it/s]"
          ]
        },
        {
          "output_type": "stream",
          "name": "stdout",
          "text": [
            "nf8b8\n",
            "nf2n8\n",
            "nf7bn\n",
            "neggn\n",
            "neecd\n",
            "ndecc\n",
            "ndme7\n",
            "ndyfe\n"
          ]
        },
        {
          "output_type": "stream",
          "name": "stderr",
          "text": [
            "epoch1 loss:115.50137329101562:  79%|███████▉  | 103/130 [01:43<00:26,  1.03it/s]"
          ]
        },
        {
          "output_type": "stream",
          "name": "stdout",
          "text": [
            "ne325\n",
            "ndg2b\n",
            "pdw38\n",
            "pcpg6\n",
            "pdcp4\n",
            "pcede\n",
            "pcm7f\n",
            "p7fyp\n"
          ]
        },
        {
          "output_type": "stream",
          "name": "stderr",
          "text": [
            "epoch1 loss:113.44090270996094:  80%|████████  | 104/130 [01:44<00:26,  1.00s/it]\n"
          ]
        },
        {
          "output_type": "error",
          "ename": "IndexError",
          "evalue": "ignored",
          "traceback": [
            "\u001b[0;31m---------------------------------------------------------------------------\u001b[0m",
            "\u001b[0;31mIndexError\u001b[0m                                Traceback (most recent call last)",
            "\u001b[0;32m<ipython-input-129-7e33249e9269>\u001b[0m in \u001b[0;36m<module>\u001b[0;34m\u001b[0m\n\u001b[1;32m     74\u001b[0m   \u001b[0miterator\u001b[0m \u001b[0;34m=\u001b[0m \u001b[0mtqdm\u001b[0m\u001b[0;34m.\u001b[0m\u001b[0mtqdm\u001b[0m\u001b[0;34m(\u001b[0m\u001b[0mloader\u001b[0m\u001b[0;34m)\u001b[0m\u001b[0;34m\u001b[0m\u001b[0;34m\u001b[0m\u001b[0m\n\u001b[1;32m     75\u001b[0m \u001b[0;34m\u001b[0m\u001b[0m\n\u001b[0;32m---> 76\u001b[0;31m   \u001b[0;32mfor\u001b[0m \u001b[0mdata\u001b[0m\u001b[0;34m,\u001b[0m \u001b[0mlabel\u001b[0m \u001b[0;32min\u001b[0m \u001b[0miterator\u001b[0m\u001b[0;34m:\u001b[0m\u001b[0;34m\u001b[0m\u001b[0;34m\u001b[0m\u001b[0m\n\u001b[0m\u001b[1;32m     77\u001b[0m     \u001b[0moptim\u001b[0m\u001b[0;34m.\u001b[0m\u001b[0mzero_grad\u001b[0m\u001b[0;34m(\u001b[0m\u001b[0;34m)\u001b[0m\u001b[0;34m\u001b[0m\u001b[0;34m\u001b[0m\u001b[0m\n\u001b[1;32m     78\u001b[0m     \u001b[0mpreds\u001b[0m \u001b[0;34m=\u001b[0m \u001b[0mmodel\u001b[0m\u001b[0;34m(\u001b[0m\u001b[0mdata\u001b[0m\u001b[0;34m.\u001b[0m\u001b[0mto\u001b[0m\u001b[0;34m(\u001b[0m\u001b[0mdevice\u001b[0m\u001b[0;34m)\u001b[0m\u001b[0;34m)\u001b[0m\u001b[0;34m\u001b[0m\u001b[0;34m\u001b[0m\u001b[0m\n",
            "\u001b[0;32m/usr/local/lib/python3.7/dist-packages/tqdm/std.py\u001b[0m in \u001b[0;36m__iter__\u001b[0;34m(self)\u001b[0m\n\u001b[1;32m   1193\u001b[0m \u001b[0;34m\u001b[0m\u001b[0m\n\u001b[1;32m   1194\u001b[0m         \u001b[0;32mtry\u001b[0m\u001b[0;34m:\u001b[0m\u001b[0;34m\u001b[0m\u001b[0;34m\u001b[0m\u001b[0m\n\u001b[0;32m-> 1195\u001b[0;31m             \u001b[0;32mfor\u001b[0m \u001b[0mobj\u001b[0m \u001b[0;32min\u001b[0m \u001b[0miterable\u001b[0m\u001b[0;34m:\u001b[0m\u001b[0;34m\u001b[0m\u001b[0;34m\u001b[0m\u001b[0m\n\u001b[0m\u001b[1;32m   1196\u001b[0m                 \u001b[0;32myield\u001b[0m \u001b[0mobj\u001b[0m\u001b[0;34m\u001b[0m\u001b[0;34m\u001b[0m\u001b[0m\n\u001b[1;32m   1197\u001b[0m                 \u001b[0;31m# Update and possibly print the progressbar.\u001b[0m\u001b[0;34m\u001b[0m\u001b[0;34m\u001b[0m\u001b[0;34m\u001b[0m\u001b[0m\n",
            "\u001b[0;32m/usr/local/lib/python3.7/dist-packages/torch/utils/data/dataloader.py\u001b[0m in \u001b[0;36m__next__\u001b[0;34m(self)\u001b[0m\n\u001b[1;32m    679\u001b[0m                 \u001b[0;31m# TODO(https://github.com/pytorch/pytorch/issues/76750)\u001b[0m\u001b[0;34m\u001b[0m\u001b[0;34m\u001b[0m\u001b[0;34m\u001b[0m\u001b[0m\n\u001b[1;32m    680\u001b[0m                 \u001b[0mself\u001b[0m\u001b[0;34m.\u001b[0m\u001b[0m_reset\u001b[0m\u001b[0;34m(\u001b[0m\u001b[0;34m)\u001b[0m  \u001b[0;31m# type: ignore[call-arg]\u001b[0m\u001b[0;34m\u001b[0m\u001b[0;34m\u001b[0m\u001b[0m\n\u001b[0;32m--> 681\u001b[0;31m             \u001b[0mdata\u001b[0m \u001b[0;34m=\u001b[0m \u001b[0mself\u001b[0m\u001b[0;34m.\u001b[0m\u001b[0m_next_data\u001b[0m\u001b[0;34m(\u001b[0m\u001b[0;34m)\u001b[0m\u001b[0;34m\u001b[0m\u001b[0;34m\u001b[0m\u001b[0m\n\u001b[0m\u001b[1;32m    682\u001b[0m             \u001b[0mself\u001b[0m\u001b[0;34m.\u001b[0m\u001b[0m_num_yielded\u001b[0m \u001b[0;34m+=\u001b[0m \u001b[0;36m1\u001b[0m\u001b[0;34m\u001b[0m\u001b[0;34m\u001b[0m\u001b[0m\n\u001b[1;32m    683\u001b[0m             \u001b[0;32mif\u001b[0m \u001b[0mself\u001b[0m\u001b[0;34m.\u001b[0m\u001b[0m_dataset_kind\u001b[0m \u001b[0;34m==\u001b[0m \u001b[0m_DatasetKind\u001b[0m\u001b[0;34m.\u001b[0m\u001b[0mIterable\u001b[0m \u001b[0;32mand\u001b[0m\u001b[0;31m \u001b[0m\u001b[0;31m\\\u001b[0m\u001b[0;34m\u001b[0m\u001b[0;34m\u001b[0m\u001b[0m\n",
            "\u001b[0;32m/usr/local/lib/python3.7/dist-packages/torch/utils/data/dataloader.py\u001b[0m in \u001b[0;36m_next_data\u001b[0;34m(self)\u001b[0m\n\u001b[1;32m    719\u001b[0m     \u001b[0;32mdef\u001b[0m \u001b[0m_next_data\u001b[0m\u001b[0;34m(\u001b[0m\u001b[0mself\u001b[0m\u001b[0;34m)\u001b[0m\u001b[0;34m:\u001b[0m\u001b[0;34m\u001b[0m\u001b[0;34m\u001b[0m\u001b[0m\n\u001b[1;32m    720\u001b[0m         \u001b[0mindex\u001b[0m \u001b[0;34m=\u001b[0m \u001b[0mself\u001b[0m\u001b[0;34m.\u001b[0m\u001b[0m_next_index\u001b[0m\u001b[0;34m(\u001b[0m\u001b[0;34m)\u001b[0m  \u001b[0;31m# may raise StopIteration\u001b[0m\u001b[0;34m\u001b[0m\u001b[0;34m\u001b[0m\u001b[0m\n\u001b[0;32m--> 721\u001b[0;31m         \u001b[0mdata\u001b[0m \u001b[0;34m=\u001b[0m \u001b[0mself\u001b[0m\u001b[0;34m.\u001b[0m\u001b[0m_dataset_fetcher\u001b[0m\u001b[0;34m.\u001b[0m\u001b[0mfetch\u001b[0m\u001b[0;34m(\u001b[0m\u001b[0mindex\u001b[0m\u001b[0;34m)\u001b[0m  \u001b[0;31m# may raise StopIteration\u001b[0m\u001b[0;34m\u001b[0m\u001b[0;34m\u001b[0m\u001b[0m\n\u001b[0m\u001b[1;32m    722\u001b[0m         \u001b[0;32mif\u001b[0m \u001b[0mself\u001b[0m\u001b[0;34m.\u001b[0m\u001b[0m_pin_memory\u001b[0m\u001b[0;34m:\u001b[0m\u001b[0;34m\u001b[0m\u001b[0;34m\u001b[0m\u001b[0m\n\u001b[1;32m    723\u001b[0m             \u001b[0mdata\u001b[0m \u001b[0;34m=\u001b[0m \u001b[0m_utils\u001b[0m\u001b[0;34m.\u001b[0m\u001b[0mpin_memory\u001b[0m\u001b[0;34m.\u001b[0m\u001b[0mpin_memory\u001b[0m\u001b[0;34m(\u001b[0m\u001b[0mdata\u001b[0m\u001b[0;34m,\u001b[0m \u001b[0mself\u001b[0m\u001b[0;34m.\u001b[0m\u001b[0m_pin_memory_device\u001b[0m\u001b[0;34m)\u001b[0m\u001b[0;34m\u001b[0m\u001b[0;34m\u001b[0m\u001b[0m\n",
            "\u001b[0;32m/usr/local/lib/python3.7/dist-packages/torch/utils/data/_utils/fetch.py\u001b[0m in \u001b[0;36mfetch\u001b[0;34m(self, possibly_batched_index)\u001b[0m\n\u001b[1;32m     47\u001b[0m     \u001b[0;32mdef\u001b[0m \u001b[0mfetch\u001b[0m\u001b[0;34m(\u001b[0m\u001b[0mself\u001b[0m\u001b[0;34m,\u001b[0m \u001b[0mpossibly_batched_index\u001b[0m\u001b[0;34m)\u001b[0m\u001b[0;34m:\u001b[0m\u001b[0;34m\u001b[0m\u001b[0;34m\u001b[0m\u001b[0m\n\u001b[1;32m     48\u001b[0m         \u001b[0;32mif\u001b[0m \u001b[0mself\u001b[0m\u001b[0;34m.\u001b[0m\u001b[0mauto_collation\u001b[0m\u001b[0;34m:\u001b[0m\u001b[0;34m\u001b[0m\u001b[0;34m\u001b[0m\u001b[0m\n\u001b[0;32m---> 49\u001b[0;31m             \u001b[0mdata\u001b[0m \u001b[0;34m=\u001b[0m \u001b[0;34m[\u001b[0m\u001b[0mself\u001b[0m\u001b[0;34m.\u001b[0m\u001b[0mdataset\u001b[0m\u001b[0;34m[\u001b[0m\u001b[0midx\u001b[0m\u001b[0;34m]\u001b[0m \u001b[0;32mfor\u001b[0m \u001b[0midx\u001b[0m \u001b[0;32min\u001b[0m \u001b[0mpossibly_batched_index\u001b[0m\u001b[0;34m]\u001b[0m\u001b[0;34m\u001b[0m\u001b[0;34m\u001b[0m\u001b[0m\n\u001b[0m\u001b[1;32m     50\u001b[0m         \u001b[0;32melse\u001b[0m\u001b[0;34m:\u001b[0m\u001b[0;34m\u001b[0m\u001b[0;34m\u001b[0m\u001b[0m\n\u001b[1;32m     51\u001b[0m             \u001b[0mdata\u001b[0m \u001b[0;34m=\u001b[0m \u001b[0mself\u001b[0m\u001b[0;34m.\u001b[0m\u001b[0mdataset\u001b[0m\u001b[0;34m[\u001b[0m\u001b[0mpossibly_batched_index\u001b[0m\u001b[0;34m]\u001b[0m\u001b[0;34m\u001b[0m\u001b[0;34m\u001b[0m\u001b[0m\n",
            "\u001b[0;32m/usr/local/lib/python3.7/dist-packages/torch/utils/data/_utils/fetch.py\u001b[0m in \u001b[0;36m<listcomp>\u001b[0;34m(.0)\u001b[0m\n\u001b[1;32m     47\u001b[0m     \u001b[0;32mdef\u001b[0m \u001b[0mfetch\u001b[0m\u001b[0;34m(\u001b[0m\u001b[0mself\u001b[0m\u001b[0;34m,\u001b[0m \u001b[0mpossibly_batched_index\u001b[0m\u001b[0;34m)\u001b[0m\u001b[0;34m:\u001b[0m\u001b[0;34m\u001b[0m\u001b[0;34m\u001b[0m\u001b[0m\n\u001b[1;32m     48\u001b[0m         \u001b[0;32mif\u001b[0m \u001b[0mself\u001b[0m\u001b[0;34m.\u001b[0m\u001b[0mauto_collation\u001b[0m\u001b[0;34m:\u001b[0m\u001b[0;34m\u001b[0m\u001b[0;34m\u001b[0m\u001b[0m\n\u001b[0;32m---> 49\u001b[0;31m             \u001b[0mdata\u001b[0m \u001b[0;34m=\u001b[0m \u001b[0;34m[\u001b[0m\u001b[0mself\u001b[0m\u001b[0;34m.\u001b[0m\u001b[0mdataset\u001b[0m\u001b[0;34m[\u001b[0m\u001b[0midx\u001b[0m\u001b[0;34m]\u001b[0m \u001b[0;32mfor\u001b[0m \u001b[0midx\u001b[0m \u001b[0;32min\u001b[0m \u001b[0mpossibly_batched_index\u001b[0m\u001b[0;34m]\u001b[0m\u001b[0;34m\u001b[0m\u001b[0;34m\u001b[0m\u001b[0m\n\u001b[0m\u001b[1;32m     50\u001b[0m         \u001b[0;32melse\u001b[0m\u001b[0;34m:\u001b[0m\u001b[0;34m\u001b[0m\u001b[0;34m\u001b[0m\u001b[0m\n\u001b[1;32m     51\u001b[0m             \u001b[0mdata\u001b[0m \u001b[0;34m=\u001b[0m \u001b[0mself\u001b[0m\u001b[0;34m.\u001b[0m\u001b[0mdataset\u001b[0m\u001b[0;34m[\u001b[0m\u001b[0mpossibly_batched_index\u001b[0m\u001b[0;34m]\u001b[0m\u001b[0;34m\u001b[0m\u001b[0;34m\u001b[0m\u001b[0m\n",
            "\u001b[0;32m<ipython-input-129-7e33249e9269>\u001b[0m in \u001b[0;36m__getitem__\u001b[0;34m(self, idx)\u001b[0m\n\u001b[1;32m     39\u001b[0m   \u001b[0;32mdef\u001b[0m \u001b[0m__getitem__\u001b[0m\u001b[0;34m(\u001b[0m\u001b[0mself\u001b[0m\u001b[0;34m,\u001b[0m \u001b[0midx\u001b[0m\u001b[0;34m)\u001b[0m\u001b[0;34m:\u001b[0m\u001b[0;34m\u001b[0m\u001b[0;34m\u001b[0m\u001b[0m\n\u001b[1;32m     40\u001b[0m     \u001b[0;32mif\u001b[0m \u001b[0mself\u001b[0m\u001b[0;34m.\u001b[0m\u001b[0mtrain\u001b[0m\u001b[0;34m:\u001b[0m\u001b[0;34m\u001b[0m\u001b[0;34m\u001b[0m\u001b[0m\n\u001b[0;32m---> 41\u001b[0;31m       \u001b[0mdata\u001b[0m \u001b[0;34m=\u001b[0m \u001b[0mImage\u001b[0m\u001b[0;34m.\u001b[0m\u001b[0mopen\u001b[0m\u001b[0;34m(\u001b[0m\u001b[0mself\u001b[0m\u001b[0;34m.\u001b[0m\u001b[0mtrainset\u001b[0m\u001b[0;34m[\u001b[0m\u001b[0midx\u001b[0m\u001b[0;34m]\u001b[0m\u001b[0;34m)\u001b[0m\u001b[0;34m.\u001b[0m\u001b[0mconvert\u001b[0m\u001b[0;34m(\u001b[0m\u001b[0;34m\"RGB\"\u001b[0m\u001b[0;34m)\u001b[0m\u001b[0;34m\u001b[0m\u001b[0;34m\u001b[0m\u001b[0m\n\u001b[0m\u001b[1;32m     42\u001b[0m       \u001b[0mlabel\u001b[0m \u001b[0;34m=\u001b[0m \u001b[0mself\u001b[0m\u001b[0;34m.\u001b[0m\u001b[0mtrainset\u001b[0m\u001b[0;34m[\u001b[0m\u001b[0midx\u001b[0m\u001b[0;34m]\u001b[0m\u001b[0;34m.\u001b[0m\u001b[0msplit\u001b[0m\u001b[0;34m(\u001b[0m\u001b[0;34m\"/\"\u001b[0m\u001b[0;34m)\u001b[0m\u001b[0;34m[\u001b[0m\u001b[0;34m-\u001b[0m\u001b[0;36m1\u001b[0m\u001b[0;34m]\u001b[0m\u001b[0;34m\u001b[0m\u001b[0;34m\u001b[0m\u001b[0m\n\u001b[1;32m     43\u001b[0m       \u001b[0mlabel\u001b[0m \u001b[0;34m=\u001b[0m \u001b[0mlabel\u001b[0m\u001b[0;34m.\u001b[0m\u001b[0msplit\u001b[0m\u001b[0;34m(\u001b[0m\u001b[0;34m\".png\"\u001b[0m\u001b[0;34m)\u001b[0m\u001b[0;34m[\u001b[0m\u001b[0;36m0\u001b[0m\u001b[0;34m]\u001b[0m\u001b[0;34m\u001b[0m\u001b[0;34m\u001b[0m\u001b[0m\n",
            "\u001b[0;31mIndexError\u001b[0m: list index out of range"
          ]
        }
      ]
    },
    {
      "cell_type": "code",
      "source": [],
      "metadata": {
        "id": "Uge7MwM_j1V6"
      },
      "execution_count": null,
      "outputs": []
    }
  ]
}